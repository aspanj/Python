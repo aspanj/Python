{
 "cells": [
  {
   "cell_type": "markdown",
   "id": "e0725737",
   "metadata": {},
   "source": [
    "# Einführung in das Programmieren: Übung 2\n",
    "\n",
    "In dieser Übung werden Sie Kontrollstrukturen und Schleifen vertiefen. Die Beispiel-Eingaben und -Ausgaben zeigen, wie Ihr Programm auf bestimmte Eingaben reagieren sollte.\n"
   ]
  },
  {
   "cell_type": "markdown",
   "id": "51113862",
   "metadata": {},
   "source": [
    "## Aufgabe 1: Eintrittspreis berechnen\n",
    "Schreiben Sie ein Programm, das den Benutzer nach seinem Alter fragt und basierend darauf den Eintrittspreis für ein Kino berechnet.\n",
    "- Für Kinder unter 6 Jahren ist der Eintritt kostenlos.\n",
    "- Für Personen zwischen 6 und 18 Jahren beträgt der Eintritt 5 Euro.\n",
    "- Für Erwachsene (über 18 Jahre) beträgt der Eintritt 10 Euro.\n",
    "- Für Senioren (über 65 Jahre) beträgt der Eintritt 7 Euro.\n",
    "Das Programm sollte die passende Ausgabe basierend auf dem Alter machen.\n",
    "\n",
    "### Beispiel:\n",
    "Eingabe:\n",
    "```\n",
    "Wie alt sind Sie? 4\n",
    "```\n",
    "Ausgabe:\n",
    "```\n",
    "Eintritt kostenlos\n",
    "```\n",
    "\n"
   ]
  },
  {
   "cell_type": "code",
   "execution_count": 9,
   "id": "c1c2d194",
   "metadata": {},
   "outputs": [
    {
     "name": "stdout",
     "output_type": "stream",
     "text": [
      "Für Erwachsene (über 18 Jahre) beträgt der Eintritt 10 Euro.\n"
     ]
    }
   ],
   "source": [
    "# your code here\n",
    "alter = 64\n",
    "\n",
    "if alter < 6:\n",
    "    print(\"Für Kinder unter 6 Jahren ist der Eintritt kostenlos.\")\n",
    "elif alter < 18:\n",
    "    print(\"Für Personen zwischen 6 und 18 Jahren beträgt der Eintritt 5 Euro.\")\n",
    "elif alter < 65:\n",
    "    print(\"Für Erwachsene (über 18 Jahre) beträgt der Eintritt 10 Euro.\")\n",
    "else:\n",
    "    print(\"Für Senioren (über 65 Jahre) beträgt der Eintritt 7 Euro.\")\n"
   ]
  },
  {
   "cell_type": "markdown",
   "id": "ad1d076f",
   "metadata": {},
   "source": [
    "## Aufgabe 2: Anzahl der Versuche\n",
    "Schreiben Sie ein Programm, das den Benutzer auffordert, eine Zahl zwischen 1 und 10 zu erraten.\n",
    "Das Programm sollte in einer Schleife so lange laufen, bis die richtige Zahl erraten wurde (nehmen Sie an, dass die richtige Zahl 7 ist).\n",
    "Jedes Mal, wenn eine falsche Zahl eingegeben wird, sollte das Programm 'Falsch, versuchen Sie es erneut' ausgeben. Bei der richtigen Zahl sollte es 'Richtig!' ausgeben und die Schleife beenden.\n",
    "\n",
    "### Beispiel:\n",
    "Eingabe:\n",
    "```\n",
    "Raten Sie eine Zahl: 5\n",
    "```\n",
    "Ausgabe:\n",
    "```\n",
    "Falsch, versuchen Sie es erneut\n",
    "```\n",
    "\n",
    "Eingabe:\n",
    "```\n",
    "Raten Sie eine Zahl: 7\n",
    "```\n",
    "Ausgabe:\n",
    "```\n",
    "Richtig!\n",
    "```\n",
    "\n"
   ]
  },
  {
   "cell_type": "code",
   "execution_count": 1,
   "id": "4748608f",
   "metadata": {},
   "outputs": [
    {
     "name": "stdout",
     "output_type": "stream",
     "text": [
      "Falsch, versuchen Sie es erneut\n",
      "Falsch, versuchen Sie es erneut\n",
      "Richtig!\n",
      "Super!, Sie haben die Nummer 7 richtig erraten!\n"
     ]
    }
   ],
   "source": [
    "# your code here\n",
    "number_user = \"\"\n",
    "number_right = 7\n",
    "\n",
    "while number_user != number_right:\n",
    "    number_user = int(input(\"Raten Sie eine Zahl: \"))\n",
    "    if number_user < 1 or number_user > 10:\n",
    "        print(\"Ihre Nummer ist kleiner oder größer als 10, bitte geben Sie erneut eine Nummer zwischen 1 und 10 ein\")\n",
    "    #elif number_user > 10:\n",
    "    #    print(\"Ihre Nummer ist kleiner als 10, bitte geben Sie erneut eine Nummer zwischen 1 und 10 ein\")\n",
    "    elif number_user != number_right:\n",
    "        print(\"Falsch, versuchen Sie es erneut\")\n",
    "    elif number_user == number_right:\n",
    "        print(\"Richtig!\")\n",
    "\n",
    "print(f\"Super!, Sie haben die Nummer {number_right} richtig erraten!\")\n"
   ]
  },
  {
   "cell_type": "markdown",
   "id": "311b1252",
   "metadata": {},
   "source": [
    "## Aufgabe 3: Prüfen Sie die Gültigkeit einer Zahl\n",
    "Schreiben Sie ein Programm, das den Benutzer auffordert, eine Zahl einzugeben. Wenn die Zahl negativ oder null ist, sollte das Programm 'Ungültige Zahl' ausgeben und den Benutzer auffordern, eine neue Zahl einzugeben, bis eine positive Zahl eingegeben wird.\n",
    "Das Programm sollte am Ende die gültige Zahl ausgeben.\n",
    "\n",
    "### Beispiel:\n",
    "Eingabe:\n",
    "```\n",
    "Bitte geben Sie eine Zahl ein: -5\n",
    "```\n",
    "Ausgabe:\n",
    "```\n",
    "Ungültige Zahl\n",
    "```\n",
    "\n",
    "Eingabe:\n",
    "```\n",
    "Bitte geben Sie eine Zahl ein: 10\n",
    "```\n",
    "Ausgabe:\n",
    "```\n",
    "Gültige Zahl: 10\n",
    "```\n",
    "\n"
   ]
  },
  {
   "cell_type": "code",
   "execution_count": 5,
   "id": "ac297d3b",
   "metadata": {},
   "outputs": [
    {
     "name": "stdout",
     "output_type": "stream",
     "text": [
      "Gültige Zahl: 4\n"
     ]
    }
   ],
   "source": [
    "# your code here\n",
    "\n",
    "number = -1\n",
    "\n",
    "while number <= 0:\n",
    "    number = int(input(\"Bitte Zahl eingeben: \"))\n",
    "    if number <= 0:\n",
    "        print(\"Ungültige Zahl!\")\n",
    "    else:\n",
    "        print(f\"Gültige Zahl: {number}\")"
   ]
  },
  {
   "cell_type": "markdown",
   "id": "ba6925a6",
   "metadata": {},
   "source": [
    "## Aufgabe 4: Bestimme das größte und kleinste Gewicht\n",
    "Schreiben Sie ein Programm, das wiederholt nach dem Gewicht einer Person fragt (in Kilogramm). Das Programm sollte das größte und kleinste Gewicht speichern und nach jeder Eingabe fragen, ob eine weitere Zahl eingegeben werden soll ('j' für ja, 'n' für nein). Wenn der Benutzer 'n' eingibt, sollte das Programm das größte und kleinste Gewicht ausgeben.\n",
    "\n",
    "### Beispiel:\n",
    "Eingabe:\n",
    "```\n",
    "Geben Sie ein Gewicht ein: 75\n",
    "Möchten Sie eine weitere Zahl eingeben? (j/n): j\n",
    "```\n",
    "```\n",
    "Geben Sie ein Gewicht ein: 80\n",
    "Möchten Sie eine weitere Zahl eingeben? (j/n): n\n",
    "```\n",
    "Ausgabe:\n",
    "```\n",
    "Größtes Gewicht: 80\n",
    "Kleinstes Gewicht: 75\n",
    "```\n",
    "\n"
   ]
  },
  {
   "cell_type": "code",
   "execution_count": 6,
   "id": "a1992304",
   "metadata": {},
   "outputs": [
    {
     "name": "stdout",
     "output_type": "stream",
     "text": [
      "Größtes Gewicht: 5\n",
      "Kleinstes Gewicht: 5\n"
     ]
    }
   ],
   "source": [
    "# your code here\n",
    "\n",
    "#Initialisierung der Eingabe:\n",
    "number_input = int(input(\"Geben Sie ein Gewicht ein: \"))\n",
    "continue_chooser = input(\"Möchten Sie eine weitere Zahl eingeben? (j/n): \")\n",
    "\n",
    "number_max = number_input\n",
    "number_min = number_input\n",
    "\n",
    "#Debug Mode\n",
    "#print(\"Preloop\")\n",
    "#print(number_max)\n",
    "#print(number_min)\n",
    "#print(\"Preloop\")\n",
    "\n",
    "while continue_chooser == \"j\":\n",
    "    number_input = int(input(\"Geben Sie ein Gewicht ein: \"))\n",
    "    continue_chooser = input(\"Möchten Sie eine weitere Zahl eingeben? (j/n): \")\n",
    "\n",
    "    if number_input > number_max:\n",
    "        number_max = number_input\n",
    "    elif number_input < number_min:\n",
    "        number_min = number_input\n",
    "\n",
    "#Debug Mode    \n",
    "#print(\"Afterloop\")\n",
    "#print(number_input)\n",
    "#print(number_max)\n",
    "#print(number_min)\n",
    "#print(\"Afterloop\")\n",
    "\n",
    "print(f\"Größtes Gewicht: {number_max}\")\n",
    "print(f\"Kleinstes Gewicht: {number_min}\")"
   ]
  },
  {
   "cell_type": "markdown",
   "id": "3ab9822e",
   "metadata": {},
   "source": [
    "## Aufgabe 5: Zinsberechnung\n",
    "Schreiben Sie ein Programm, das den Benutzer nach einem Startbetrag, einem Zinssatz (in Prozent) und der Anzahl der Jahre fragt. Das Programm sollte das Wachstum des Betrags über die eingegebene Anzahl von Jahren berechnen und nach jedem Jahr den neuen Betrag ausgeben.\n",
    "Verwenden Sie eine einfache Zinsformel: neuer Betrag = Startbetrag * (1 + Zinssatz/100).\n",
    "\n",
    "### Beispiel:\n",
    "Eingabe:\n",
    "```\n",
    "Startbetrag: 1000\n",
    "Zinssatz (%): 5\n",
    "Jahre: 3\n",
    "```\n",
    "Ausgabe:\n",
    "```\n",
    "Jahr 1: 1050.0\n",
    "Jahr 2: 1102.5\n",
    "Jahr 3: 1157.63\n",
    "```\n",
    "\n"
   ]
  },
  {
   "cell_type": "code",
   "execution_count": 99,
   "id": "3678f7b0",
   "metadata": {},
   "outputs": [
    {
     "name": "stdout",
     "output_type": "stream",
     "text": [
      "Jahr 1: 1050.0\n",
      "Jahr 2: 1102.5\n",
      "Jahr 3: 1157.62\n"
     ]
    }
   ],
   "source": [
    "# your code here\n",
    "\n",
    "start_betrag = 1000\n",
    "zinssatz = 5\n",
    "jahre = 3\n",
    "\n",
    "'''\n",
    "#lesbarer\n",
    "for i in range(jahre):\n",
    "    neuer_betrag = start_betrag * (1 + zinssatz/100)\n",
    "    start_betrag = neuer_betrag\n",
    "    print(f\"Jahr {i+1}: {round(neuer_betrag, 2)}\")\n",
    "'''\n",
    "\n",
    "betrag = 1000\n",
    "\n",
    "#kurzform\n",
    "for i in range(jahre):\n",
    "    betrag = betrag * (1 + zinssatz/100)\n",
    "    print(f\"Jahr {i+1}: {round(betrag, 2)}\")\n"
   ]
  },
  {
   "cell_type": "markdown",
   "id": "4426052d",
   "metadata": {},
   "source": [
    "\n",
    "## Aufgabe 6: Vokale hervorheben\n",
    "Schreiben Sie ein Programm, das den Benutzer nach einem Satz fragt und dann nur die Vokale ausgibt. Die Vokale sollten in Großbuchstaben ausgegeben werden, der Rest der Zeichen soll ignoriert werden.\n",
    "\n",
    "### Beispiel:\n",
    "Eingabe:\n",
    "```\n",
    "Bitte geben Sie einen Satz ein: hallo welt\n",
    "```\n",
    "\n",
    "Ausgabe:\n",
    "```\n",
    "A O E\n",
    "```"
   ]
  },
  {
   "cell_type": "code",
   "execution_count": 98,
   "id": "4ed12e3c",
   "metadata": {},
   "outputs": [
    {
     "name": "stdout",
     "output_type": "stream",
     "text": [
      "AAEEIIOOUUAAEEIIOOUU\n"
     ]
    }
   ],
   "source": [
    "# your code here\n",
    "\n",
    "string = \"AwAvEwEgIrIzO5O7U3U6a2agegegigigogogugu\"\n",
    "vokale = \"aeiouAEIOU\"\n",
    "uppercase = \"\"\n",
    "\n",
    "for buchstabe in string:\n",
    "    for vokal in vokale:\n",
    "        if vokal == buchstabe:\n",
    "            #print(f\"{buchstabe.upper()} \", end=\"\")\n",
    "            uppercase += buchstabe.upper()\n",
    "\n",
    "print(uppercase)\n",
    "\n",
    "#Das Beispiel geht auch mit einem Loop weniger :D"
   ]
  },
  {
   "cell_type": "code",
   "execution_count": 7,
   "id": "066ec4c4",
   "metadata": {},
   "outputs": [
    {
     "name": "stdout",
     "output_type": "stream",
     "text": [
      "[1, 2, 3, 4]\n",
      "[1, 2, 3, 4]\n"
     ]
    }
   ],
   "source": [
    "#Mutable :O\n",
    "\n",
    "list1 = [1, 2, 3]\n",
    "list2 = list1\n",
    "\n",
    "list1.append(4)\n",
    "\n",
    "print(list1)\n",
    "print(list2)"
   ]
  }
 ],
 "metadata": {
  "kernelspec": {
   "display_name": "biot5",
   "language": "python",
   "name": "python3"
  },
  "language_info": {
   "codemirror_mode": {
    "name": "ipython",
    "version": 3
   },
   "file_extension": ".py",
   "mimetype": "text/x-python",
   "name": "python",
   "nbconvert_exporter": "python",
   "pygments_lexer": "ipython3",
   "version": "3.12.5"
  }
 },
 "nbformat": 4,
 "nbformat_minor": 5
}
