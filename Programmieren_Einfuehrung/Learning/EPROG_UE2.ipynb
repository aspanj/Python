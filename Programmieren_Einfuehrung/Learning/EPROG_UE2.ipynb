{
 "cells": [
  {
   "cell_type": "markdown",
   "id": "e0725737",
   "metadata": {},
   "source": [
    "# Einführung in das Programmieren: Übung 2\n",
    "\n",
    "In dieser Übung werden Sie Kontrollstrukturen und Schleifen vertiefen. Die Beispiel-Eingaben und -Ausgaben zeigen, wie Ihr Programm auf bestimmte Eingaben reagieren sollte.\n"
   ]
  },
  {
   "cell_type": "markdown",
   "id": "51113862",
   "metadata": {},
   "source": [
    "## Aufgabe 1: Eintrittspreis berechnen\n",
    "Schreiben Sie ein Programm, das den Benutzer nach seinem Alter fragt und basierend darauf den Eintrittspreis für ein Kino berechnet.\n",
    "- Für Kinder unter 6 Jahren ist der Eintritt kostenlos.\n",
    "- Für Personen zwischen 6 und 18 Jahren beträgt der Eintritt 5 Euro.\n",
    "- Für Erwachsene (über 18 Jahre) beträgt der Eintritt 10 Euro.\n",
    "- Für Senioren (über 65 Jahre) beträgt der Eintritt 7 Euro.\n",
    "Das Programm sollte die passende Ausgabe basierend auf dem Alter machen.\n",
    "\n",
    "### Beispiel:\n",
    "Eingabe:\n",
    "```\n",
    "Wie alt sind Sie? 4\n",
    "```\n",
    "Ausgabe:\n",
    "```\n",
    "Eintritt kostenlos\n",
    "```\n",
    "\n"
   ]
  },
  {
   "cell_type": "code",
   "execution_count": 13,
   "id": "c1c2d194",
   "metadata": {},
   "outputs": [
    {
     "name": "stdout",
     "output_type": "stream",
     "text": [
      "Erwachsene 10 Euro\n"
     ]
    }
   ],
   "source": [
    "# your code here\n",
    "\n",
    "user_input = int(input(\"Eingabe: \"))\n",
    "\n",
    "if user_input < 6:\n",
    "    print(\"Kind unter 6 Kostenlos\")\n",
    "elif user_input < 18:\n",
    "    print(\"zwischen 6 und 18 Eintritt 5 Euro\")\n",
    "elif user_input < 65:\n",
    "    print(\"Erwachsene 10 Euro\")\n",
    "else:\n",
    "    print(\"Senioren 7 Euro\")"
   ]
  },
  {
   "cell_type": "markdown",
   "id": "ad1d076f",
   "metadata": {},
   "source": [
    "## Aufgabe 2: Anzahl der Versuche\n",
    "Schreiben Sie ein Programm, das den Benutzer auffordert, eine Zahl zwischen 1 und 10 zu erraten.\n",
    "Das Programm sollte in einer Schleife so lange laufen, bis die richtige Zahl erraten wurde (nehmen Sie an, dass die richtige Zahl 7 ist).\n",
    "Jedes Mal, wenn eine falsche Zahl eingegeben wird, sollte das Programm 'Falsch, versuchen Sie es erneut' ausgeben. Bei der richtigen Zahl sollte es 'Richtig!' ausgeben und die Schleife beenden.\n",
    "\n",
    "### Beispiel:\n",
    "Eingabe:\n",
    "```\n",
    "Raten Sie eine Zahl: 5\n",
    "```\n",
    "Ausgabe:\n",
    "```\n",
    "Falsch, versuchen Sie es erneut\n",
    "```\n",
    "\n",
    "Eingabe:\n",
    "```\n",
    "Raten Sie eine Zahl: 7\n",
    "```\n",
    "Ausgabe:\n",
    "```\n",
    "Richtig!\n",
    "```\n",
    "\n"
   ]
  },
  {
   "cell_type": "code",
   "execution_count": 3,
   "id": "4748608f",
   "metadata": {},
   "outputs": [
    {
     "name": "stdout",
     "output_type": "stream",
     "text": [
      "falsche Zahl\n",
      "falsche Zahl\n",
      "falsche Zahl\n",
      "falsche Zahl\n",
      "Zahl erraten!\n"
     ]
    }
   ],
   "source": [
    "# your code here\n",
    "\n",
    "user_input = \"\"\n",
    "\n",
    "while user_input != 7:\n",
    "    user_input = int(input(\"Eingabe: \"))\n",
    "    if user_input == 7:\n",
    "        print(\"Zahl erraten!\")\n",
    "    else:\n",
    "        print(\"falsche Zahl\")"
   ]
  },
  {
   "cell_type": "markdown",
   "id": "311b1252",
   "metadata": {},
   "source": [
    "## Aufgabe 3: Prüfen Sie die Gültigkeit einer Zahl\n",
    "Schreiben Sie ein Programm, das den Benutzer auffordert, eine Zahl einzugeben. Wenn die Zahl negativ oder null ist, sollte das Programm 'Ungültige Zahl' ausgeben und den Benutzer auffordern, eine neue Zahl einzugeben, bis eine positive Zahl eingegeben wird.\n",
    "Das Programm sollte am Ende die gültige Zahl ausgeben.\n",
    "\n",
    "### Beispiel:\n",
    "Eingabe:\n",
    "```\n",
    "Bitte geben Sie eine Zahl ein: -5\n",
    "```\n",
    "Ausgabe:\n",
    "```\n",
    "Ungültige Zahl\n",
    "```\n",
    "\n",
    "Eingabe:\n",
    "```\n",
    "Bitte geben Sie eine Zahl ein: 10\n",
    "```\n",
    "Ausgabe:\n",
    "```\n",
    "Gültige Zahl: 10\n",
    "```\n",
    "\n"
   ]
  },
  {
   "cell_type": "code",
   "execution_count": null,
   "id": "ac297d3b",
   "metadata": {},
   "outputs": [
    {
     "name": "stdout",
     "output_type": "stream",
     "text": [
      "Gültige Zahl 5\n"
     ]
    }
   ],
   "source": [
    "# your code here\n",
    "\n",
    "user_input = int()\n",
    "\n",
    "while user_input < 1:\n",
    "    user_input = int(input(\"Eingabe: \"))\n",
    "    if user_input < 1: \n",
    "        print(\"Ungültige Zahl\")\n",
    "    else:\n",
    "        print(\"Gültige Zahl\", user_input)\n",
    "    \n",
    "    "
   ]
  },
  {
   "cell_type": "markdown",
   "id": "ba6925a6",
   "metadata": {},
   "source": [
    "## Aufgabe 4: Bestimme das größte und kleinste Gewicht\n",
    "Schreiben Sie ein Programm, das wiederholt nach dem Gewicht einer Person fragt (in Kilogramm). Das Programm sollte das größte und kleinste Gewicht speichern und nach jeder Eingabe fragen, ob eine weitere Zahl eingegeben werden soll ('j' für ja, 'n' für nein). Wenn der Benutzer 'n' eingibt, sollte das Programm das größte und kleinste Gewicht ausgeben.\n",
    "\n",
    "### Beispiel:\n",
    "Eingabe:\n",
    "```\n",
    "Geben Sie ein Gewicht ein: 75\n",
    "Möchten Sie eine weitere Zahl eingeben? (j/n): j\n",
    "```\n",
    "```\n",
    "Geben Sie ein Gewicht ein: 80\n",
    "Möchten Sie eine weitere Zahl eingeben? (j/n): n\n",
    "```\n",
    "Ausgabe:\n",
    "```\n",
    "Größtes Gewicht: 80\n",
    "Kleinstes Gewicht: 75\n",
    "```\n",
    "\n"
   ]
  },
  {
   "cell_type": "code",
   "execution_count": null,
   "id": "a1992304",
   "metadata": {},
   "outputs": [
    {
     "name": "stdout",
     "output_type": "stream",
     "text": [
      "3\n",
      "3\n"
     ]
    }
   ],
   "source": [
    "# your code here\n",
    "user_input_gewicht = int(input(\"Geben Sie ein Gewicht ein: \"))\n",
    "user_input_chooser = input(\"Möchten Sie eine weitere Zahl Eingeben? (j/n)\")\n",
    "\n",
    "#Wichtig, falls man nie in die Schleife geht!\n",
    "max_gewicht = user_input_gewicht\n",
    "min_gewicht = user_input_gewicht\n",
    "\n",
    "while user_input_chooser == \"j\":\n",
    "    user_input_gewicht = int(input(\"Geben Sie ein Gewicht ein: \"))\n",
    "    user_input_chooser = input(\"Möchten Sie eine weitere Zahl Eingeben? (j/n)\")\n",
    "    if user_input_gewicht > max_gewicht:\n",
    "        max_gewicht = user_input_gewicht\n",
    "    elif user_input_gewicht < min_gewicht:\n",
    "        min_gewicht = user_input_gewicht \n",
    "\n",
    "print(min_gewicht)\n",
    "print(max_gewicht)\n",
    "\n",
    "\n",
    "\n"
   ]
  },
  {
   "cell_type": "markdown",
   "id": "3ab9822e",
   "metadata": {},
   "source": [
    "## Aufgabe 5: Zinsberechnung\n",
    "Schreiben Sie ein Programm, das den Benutzer nach einem Startbetrag, einem Zinssatz (in Prozent) und der Anzahl der Jahre fragt. Das Programm sollte das Wachstum des Betrags über die eingegebene Anzahl von Jahren berechnen und nach jedem Jahr den neuen Betrag ausgeben.\n",
    "Verwenden Sie eine einfache Zinsformel: neuer Betrag = Startbetrag * (1 + Zinssatz/100).\n",
    "\n",
    "### Beispiel:\n",
    "Eingabe:\n",
    "```\n",
    "Startbetrag: 1000\n",
    "Zinssatz (%): 5\n",
    "Jahre: 3\n",
    "```\n",
    "Ausgabe:\n",
    "```\n",
    "Jahr 1: 1050.0\n",
    "Jahr 2: 1102.5\n",
    "Jahr 3: 1157.63\n",
    "```\n",
    "\n"
   ]
  },
  {
   "cell_type": "code",
   "execution_count": 8,
   "id": "3678f7b0",
   "metadata": {},
   "outputs": [
    {
     "name": "stdout",
     "output_type": "stream",
     "text": [
      "1050.0\n",
      "1102.5\n",
      "1157.625\n"
     ]
    }
   ],
   "source": [
    "# your code here\n",
    "\n",
    "betrag = 1000 \n",
    "zinssatz = 5\n",
    "jahre = 3\n",
    "\n",
    "#betrag = 0\n",
    "\n",
    "for i in range(jahre):\n",
    "    betrag = betrag * (1 + zinssatz/100)\n",
    "    print(betrag)\n",
    "\n",
    "\n"
   ]
  },
  {
   "cell_type": "markdown",
   "id": "4426052d",
   "metadata": {},
   "source": [
    "\n",
    "## Aufgabe 6: Vokale hervorheben\n",
    "Schreiben Sie ein Programm, das den Benutzer nach einem Satz fragt und dann nur die Vokale ausgibt. Die Vokale sollten in Großbuchstaben ausgegeben werden, der Rest der Zeichen soll ignoriert werden.\n",
    "\n",
    "### Beispiel:\n",
    "Eingabe:\n",
    "```\n",
    "Bitte geben Sie einen Satz ein: hallo welt\n",
    "```\n",
    "\n",
    "Ausgabe:\n",
    "```\n",
    "A O E\n",
    "```"
   ]
  },
  {
   "cell_type": "code",
   "execution_count": 15,
   "id": "4ed12e3c",
   "metadata": {},
   "outputs": [
    {
     "name": "stdout",
     "output_type": "stream",
     "text": [
      "I E E E I E E I E A E I A O E "
     ]
    }
   ],
   "source": [
    "# your code here\n",
    "\n",
    "input_string = \"Bitte geben Sie einen Satz ein: hallo welt\"\n",
    "\n",
    "vokale = \"aeiouAEIOU\"\n",
    "\n",
    "for char in input_string:\n",
    "    if char in vokale:\n",
    "        print(char.upper(), end=\" \")"
   ]
  }
 ],
 "metadata": {
  "kernelspec": {
   "display_name": "Python 3",
   "language": "python",
   "name": "python3"
  },
  "language_info": {
   "codemirror_mode": {
    "name": "ipython",
    "version": 3
   },
   "file_extension": ".py",
   "mimetype": "text/x-python",
   "name": "python",
   "nbconvert_exporter": "python",
   "pygments_lexer": "ipython3",
   "version": "3.12.5"
  }
 },
 "nbformat": 4,
 "nbformat_minor": 5
}
