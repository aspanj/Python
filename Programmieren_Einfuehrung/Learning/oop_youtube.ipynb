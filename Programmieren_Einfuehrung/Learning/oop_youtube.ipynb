{
 "cells": [
  {
   "cell_type": "code",
   "execution_count": 3,
   "metadata": {},
   "outputs": [
    {
     "name": "stdout",
     "output_type": "stream",
     "text": [
      "VW\n",
      "rot\n"
     ]
    }
   ],
   "source": [
    "class Auto:\n",
    "    pass\n",
    "\n",
    "\n",
    "auto_1 = Auto()\n",
    "auto_1.marke = \"BMW\"\n",
    "auto_1.farbe = \"rot\"\n",
    "auto_1.sitze = 5\n",
    "\n",
    "#marke, farbe, sitze = Attribut\n",
    "#Auto = Objekt\n",
    "auto_2 = Auto()\n",
    "auto_2.marke = \"VW\"\n",
    "auto_2.farbe = \"blau\"\n",
    "auto_2.sitze = 8\n",
    "print(auto_2.marke)\n",
    "print(auto_1.farbe)\n",
    "\n",
    "#Unüblich von außerhalb der Klasse setzen\n",
    "#Nächster Teil :)"
   ]
  },
  {
   "cell_type": "code",
   "execution_count": 17,
   "metadata": {},
   "outputs": [
    {
     "name": "stdout",
     "output_type": "stream",
     "text": [
      "30120\n"
     ]
    }
   ],
   "source": [
    "class Auto:\n",
    "    #Attribute:\n",
    "    def __init__(self, marke, farbe, sitze, kilometerstand):\n",
    "        self.marke = marke\n",
    "        self.farbe = farbe\n",
    "        self.sitze = sitze\n",
    "        self.kilometerstand = kilometerstand\n",
    "\n",
    "    #Methoden:\n",
    "    def kilometerstand_ausgeben(self):\n",
    "        print(self.kilometerstand)\n",
    "\n",
    "    def fahren(self, kilometer):\n",
    "        self.kilometerstand += kilometer\n",
    "        self.kilometerstand_ausgeben()\n",
    "        \n",
    "\n",
    "auto_1 = Auto(\"BMW\", \"rot\", 5, 30000)\n",
    "auto_2 = Auto(\"VW\", \"blau\", 8, 100000)\n",
    "\n",
    "\n",
    "#print(auto_1.marke)\n",
    "#print(auto_2.marke)\n",
    "\n",
    "auto_1.fahren(120)"
   ]
  }
 ],
 "metadata": {
  "kernelspec": {
   "display_name": "Python 3",
   "language": "python",
   "name": "python3"
  },
  "language_info": {
   "codemirror_mode": {
    "name": "ipython",
    "version": 3
   },
   "file_extension": ".py",
   "mimetype": "text/x-python",
   "name": "python",
   "nbconvert_exporter": "python",
   "pygments_lexer": "ipython3",
   "version": "3.12.5"
  }
 },
 "nbformat": 4,
 "nbformat_minor": 2
}
