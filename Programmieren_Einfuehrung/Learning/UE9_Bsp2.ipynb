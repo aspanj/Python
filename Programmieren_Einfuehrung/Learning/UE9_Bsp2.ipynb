{
 "cells": [
  {
   "cell_type": "markdown",
   "metadata": {},
   "source": [
    "### Aufgabe 2\n",
    "\n",
    "Erstellen Sie eine Klasse `Power`, die einen Exponenten darstellt. Die Klasse besitzt das folgende Instanzattribut:\n",
    "\n",
    "- `exponent: float`  \n",
    "  Repräsentiert den Exponentenwert.\n",
    "\n",
    "Die Klasse besitzt die folgenden Instanzmethoden:\n",
    "\n",
    "- `__init__(self, exponent)`  \n",
    "  Setzt das Instanzattribut `exponent`. Wenn `exponent` nicht numerisch ist, wird ein `TypeError(\"The exponent must be a numerical value.\")` ausgelöst.\n",
    "\n",
    "- `__call__(self, x)`  \n",
    "  Gibt `x` hoch `exponent` zurück. Wenn `x` nicht numerisch ist, wird ein `TypeError(\"Input must be a numerical value.\")` ausgelöst.\n",
    "\n",
    "- `__mul__(self, other)`  \n",
    "  Wenn `other` ein numerischer Wert ist, wird `other` zum Exponenten von `self` addiert und ein neues `Power`-Objekt mit dem Ergebnis dieser Addition zurückgegeben. Wenn `other` eine weitere Instanz von `Power` ist, werden die Exponenten von `self` und `other` addiert und ein neues `Power`-Objekt wird zurückgegeben. Andernfalls wird `NotImplemented` zurückgegeben.\n",
    "\n",
    "Erstellen Sie zusätzlich eine Tochterklasse `Square`, für die `exponent=2` festgelegt ist."
   ]
  },
  {
   "cell_type": "code",
   "execution_count": 6,
   "metadata": {},
   "outputs": [
    {
     "data": {
      "text/plain": [
       "9"
      ]
     },
     "execution_count": 6,
     "metadata": {},
     "output_type": "execute_result"
    }
   ],
   "source": [
    "class Power:\n",
    "    def __init__(self, exponent):\n",
    "        if not isinstance(exponent, (int, float)):\n",
    "            raise TypeError(\"Input must be a numerical value.\")\n",
    "        self.exponent = exponent\n",
    "\n",
    "    def __call__(self, x):\n",
    "        if not isinstance(x, int): \n",
    "            raise TypeError(\"Input must be a numerical value.\")\n",
    "        return x ** self.exponent\n",
    "\n",
    "    def __mul__(self, other):\n",
    "        if isinstance(other, (int, float)):\n",
    "            return Power(self.exponent + other)\n",
    "        elif isinstance(other, Power):\n",
    "            return Power(self.exponent + other.exponent)\n",
    "        else: \n",
    "            return NotImplemented\n",
    "    \n",
    "class Square(Power):\n",
    "    def __init__(self):\n",
    "        super().__init__(2)\n",
    "\n",
    "x = 3\n",
    "square = Square()\n",
    "square(x)\n",
    "\n"
   ]
  },
  {
   "cell_type": "markdown",
   "metadata": {},
   "source": [
    "### Beispielausführung des Programms:\n",
    "\n",
    "```python\n",
    "x = 3\n",
    "square = Square()\n",
    "cube = Power(3)\n",
    "print(square.exponent, square(x))\n",
    "print(cube.exponent, cube(x))\n",
    "\n",
    "m1 = square * 2\n",
    "print(m1.exponent, m1.__call__(x))\n",
    "\n",
    "m2 = square * cube\n",
    "print(m2.exponent, m2.__call__(x))\n",
    "\n",
    "try:\n",
    "    square(\"foo\")\n",
    "except TypeError as e:\n",
    "    print(e)\n",
    "\n",
    "try:\n",
    "    Power(\"foo\")\n",
    "except TypeError as e:\n",
    "    print(e)\n"
   ]
  }
 ],
 "metadata": {
  "kernelspec": {
   "display_name": "Python 3",
   "language": "python",
   "name": "python3"
  },
  "language_info": {
   "codemirror_mode": {
    "name": "ipython",
    "version": 3
   },
   "file_extension": ".py",
   "mimetype": "text/x-python",
   "name": "python",
   "nbconvert_exporter": "python",
   "pygments_lexer": "ipython3",
   "version": "3.12.5"
  }
 },
 "nbformat": 4,
 "nbformat_minor": 2
}
