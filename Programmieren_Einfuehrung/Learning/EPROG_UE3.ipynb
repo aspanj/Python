{
 "cells": [
  {
   "cell_type": "markdown",
   "id": "a368c135",
   "metadata": {},
   "source": [
    "# Einführung in das Programmieren - Übung 3\n",
    "\n",
    "### Sie dürfen für diese Übung auch Konzepte/Funktionen verwenden, die wir nicht bereits behandelt haben, aber keine zusätzlichen packages importieren."
   ]
  },
  {
   "cell_type": "markdown",
   "id": "f2ed6282",
   "metadata": {},
   "source": [
    "## Aufgabe 1"
   ]
  },
  {
   "cell_type": "markdown",
   "id": "94657969",
   "metadata": {},
   "source": [
    "\n",
    "Schreiben Sie ein Programm, das eine Matrix liest, die durch die Anzahl der Zeilen und Spalten spezifiziert ist, und diese Matrix dann ausgibt. Die Matrix muss wie folgt erstellt werden:\n",
    "\n",
    "- Der Benutzer kann die Anzahl der Zeilen (Ganzzahl) und die Anzahl der Spalten (Ganzzahl) eingeben. Sie können davon ausgehen, dass beide Zahlen im Bereich [1, 10] liegen.\n",
    "- Die Matrix muss mit einer verschachtelten Liste erstellt werden.\n",
    "- Alle Elemente der Matrix müssen auf 0 gesetzt werden, außer bei übereinstimmenden Zeilen- und Spaltenindizes, bei denen die Elemente auf 1 gesetzt werden müssen.\n",
    "\n",
    "Beispiel Eingabe und Ausgabe:\n",
    "\n",
    "```\n",
    "Anzahl der Zeilen: 3\n",
    "Anzahl der Spalten: 4\n",
    "\n",
    "   0 1 2 3\n",
    "  --------\n",
    "0| 1 0 0 0\n",
    "1| 0 1 0 0\n",
    "2| 0 0 1 0\n",
    "```"
   ]
  },
  {
   "cell_type": "code",
   "execution_count": 1,
   "id": "65f2062b",
   "metadata": {},
   "outputs": [
    {
     "name": "stdout",
     "output_type": "stream",
     "text": [
      "[[0, 0, 0, 0], [0, 0, 0, 0], [0, 0, 0, 0]]\n"
     ]
    }
   ],
   "source": [
    "zeilen = 3\n",
    "spalten = 4\n",
    "\n",
    "matrix = []\n",
    "\n",
    "for i in range(zeilen):\n",
    "    row = []\n",
    "    for i in range(spalten):\n",
    "        row.append(0)\n",
    "    matrix.append(row)\n",
    "\n",
    "print(matrix)"
   ]
  },
  {
   "cell_type": "code",
   "execution_count": null,
   "id": "6066bd98",
   "metadata": {},
   "outputs": [
    {
     "name": "stdout",
     "output_type": "stream",
     "text": [
      "   0 1 2 \n",
      "  ------\n",
      "0| 1 0 0\n",
      "1| 0 1 0\n",
      "2| 0 0 1\n",
      "3| 0 0 0\n"
     ]
    }
   ],
   "source": [
    "# your code here\n",
    "\n",
    "spalten = 3\n",
    "zeilen = 4\n",
    "\n",
    "matrix = []\n",
    "\n",
    "for i in range(zeilen):\n",
    "    row = []\n",
    "    for j in range(spalten):\n",
    "        if i == j:\n",
    "            row.append(1)\n",
    "        else:\n",
    "            row.append(0)\n",
    "    matrix.append(row) \n",
    "\n",
    "#print(matrix)\n",
    "\n",
    "print(\"   \", end = \"\")\n",
    "for i in range(spalten):\n",
    "    print(f\"{i}\", end=\" \")\n",
    "print()\n",
    "print(f\"  \" + \"--\" * spalten)\n",
    "for i in range(zeilen):\n",
    "   #print(f\"{i}|{matrix[i]}\")\n",
    "   print(f\"{i}| {' '.join(map(str, matrix[i]))}\")"
   ]
  },
  {
   "cell_type": "markdown",
   "id": "04351a7b",
   "metadata": {},
   "source": [
    "## Aufgabe 2"
   ]
  },
  {
   "cell_type": "markdown",
   "id": "59f6b9f6",
   "metadata": {},
   "source": [
    "\n",
    "Schreiben Sie ein Programm, das wiederholt Elemente/Strings vom Benutzer liest, bis \"x\" eingegeben wird. Alle Elemente müssen in der Reihenfolge ihres Auftretens gespeichert und anschließend ausgegeben werden. Zusätzlich müssen nur die einzigartigen Elemente identifiziert und dann als sortierte Liste (aufsteigende Reihenfolge) ausgegeben werden.\n",
    "\n",
    "Beispiel Eingabe und Ausgabe:\n",
    "\n",
    "```\n",
    "Geben Sie ein Element ein oder 'x', um zu beenden: hi\n",
    "Geben Sie ein Element ein oder 'x', um zu beenden: hello\n",
    "Geben Sie ein Element ein oder 'x', um zu beenden: x\n",
    "alle: ['hi', 'hello']\n",
    "einzigartige (sortiert): ['hello', 'hi']\n",
    "```"
   ]
  },
  {
   "cell_type": "code",
   "execution_count": 19,
   "id": "6d20fc22",
   "metadata": {},
   "outputs": [
    {
     "name": "stdout",
     "output_type": "stream",
     "text": [
      "alle: ['12', '2', '3', '4', '54', 'a', 'b', 'c', 'd', 'eqwarw', 'asd', '', 'x']\n",
      "['', '12', '2', '3', '4', '54', 'a', 'asd', 'b', 'c', 'd', 'eqwarw', 'x']\n"
     ]
    }
   ],
   "source": [
    "# your code here\n",
    "\n",
    "string_list = []\n",
    "user_input = \"\"\n",
    "\n",
    "while user_input != \"x\":\n",
    "    user_input = input(\"Eingabe: \")\n",
    "    string_list.append(user_input)\n",
    "\n",
    "print(\"alle:\", string_list)\n",
    "print(sorted(set(string_list)))"
   ]
  },
  {
   "cell_type": "markdown",
   "id": "d4273e7e",
   "metadata": {},
   "source": [
    "## Aufgabe 3"
   ]
  },
  {
   "cell_type": "markdown",
   "id": "bf9db0e3",
   "metadata": {},
   "source": [
    "\n",
    "Schreiben Sie ein Programm, bei dem der Benutzer eine Zeichenfolge eingeben kann, die durch Kommas getrennte Elemente enthält. Diese Zeichenfolge muss anhand des trennenden Kommas aufgeteilt werden. Für jedes Zeichenketten-Element sollen Sie dann einen einfachen Hash-Wert gemäß der folgenden Spezifikation berechnen.\n",
    "\n",
    "- Für jedes Zeichen in einem solchen String-Teil rufen Sie ord(char) auf, wobei char das aktuelle Zeichen ist.\n",
    "- Der Hash-Wert des gesamten String-Teils ist die Summe aller Zeichen-Ordinalwerte.\n",
    "\n",
    "Beispiel Eingabe und Ausgabe:\n",
    "\n",
    "```\n",
    "Geben Sie kommagetrennte Elemente ein: test\n",
    "'test' -> 448\n",
    "```"
   ]
  },
  {
   "cell_type": "code",
   "execution_count": 31,
   "id": "9182357e",
   "metadata": {},
   "outputs": [
    {
     "name": "stdout",
     "output_type": "stream",
     "text": [
      "hello -> 532\n",
      "world -> 552\n"
     ]
    }
   ],
   "source": [
    "# your code here\n",
    "\n",
    "input_string = \"hello, world\"\n",
    "\n",
    "input_list = input_string.split(\",\")\n",
    "\n",
    "\n",
    "\n",
    "for word in input_list:\n",
    "    hashvalue = 0\n",
    "    word = word.strip()\n",
    "    for char in word:  \n",
    "        hashvalue += ord(char)\n",
    "    print(word, \"->\", hashvalue)\n",
    "\n",
    "\n",
    "\n"
   ]
  },
  {
   "cell_type": "markdown",
   "id": "79d32a81",
   "metadata": {},
   "source": [
    "## Aufgabe 4"
   ]
  },
  {
   "cell_type": "markdown",
   "id": "c83e362f",
   "metadata": {},
   "source": [
    "\n",
    "Schreiben Sie ein Programm, bei dem der Benutzer eine Zeichenfolge eingeben kann, die durch Kommas getrennte Elemente enthält. Diese Zeichenfolge muss anhand des trennenden Kommas aufgeteilt werden. Für jedes Zeichenketten-Element soll ermittelt werden, ob es sich um eine Ganzzahl handelt.\n",
    "\n",
    "Beispiel Eingabe und Ausgabe:\n",
    "\n",
    "```\n",
    "Geben Sie kommagetrennte Elemente ein: abc,1,12,test\n",
    "Ganzzahlen: [1, 12]\n",
    "Vorkommen: {1: 1, 12: 1}\n",
    "Rest: ['abc', 'test']\n",
    "```"
   ]
  },
  {
   "cell_type": "code",
   "execution_count": 52,
   "id": "446ae74e",
   "metadata": {},
   "outputs": [
    {
     "name": "stdout",
     "output_type": "stream",
     "text": [
      "['1', '12', '12', '13', '13', '13', '13', '13']\n",
      "{1: 1, 12: 2, 13: 5}\n",
      "['abc', 'test', '1.5']\n"
     ]
    }
   ],
   "source": [
    "# your code here\n",
    "\n",
    "string_input = \"abc,1,12,test,1.5,12,13,13,13,13,13\".split(\",\")\n",
    "\n",
    "ganzzahlen = []\n",
    "vorkommen = {}\n",
    "rest = []\n",
    "\n",
    "\n",
    "for i in string_input:\n",
    "    #print(i)\n",
    "    if i.isdigit():\n",
    "        zahl = int(i)\n",
    "        ganzzahlen.append(i)\n",
    "        vorkommen[zahl] = vorkommen.get(zahl, 0) + 1\n",
    "    else:\n",
    "        rest.append(i)\n",
    "\n",
    "print(ganzzahlen)\n",
    "print(vorkommen)\n",
    "print(rest)"
   ]
  },
  {
   "cell_type": "markdown",
   "id": "c69af9db",
   "metadata": {},
   "source": [
    "Schreiben Sie ein Programm, bei dem der Benutzer eine Zeichenfolge eingeben kann, die durch Kommas getrennte Elemente enthält. Diese Zeichenfolge muss anhand des trennenden Kommas aufgeteilt werden. Für jedes Zeichenketten-Element soll ermittelt werden, ob es sich um eine Ganzzahl handelt.\n",
    "\n",
    "Beispiel Eingabe und Ausgabe:\n",
    "\n",
    "```\n",
    "Geben Sie kommagetrennte Elemente ein: abc,1,12,test\n",
    "Ganzzahlen: [1, 12]\n",
    "Vorkommen: {1: 1, 12: 1}\n",
    "Rest: ['abc', 'test']\n",
    "```"
   ]
  },
  {
   "cell_type": "code",
   "execution_count": 24,
   "id": "1441b89a",
   "metadata": {},
   "outputs": [
    {
     "name": "stdout",
     "output_type": "stream",
     "text": [
      "['1', '12', '12', '13', '13', '13', '13', 'abc', 'test', '1.23']\n",
      "['1', '12', '12', '13', '13', '13', '13']\n",
      "['abc', 'test', '1.23']\n",
      "{1: 1, 12: 2, 13: 4}\n"
     ]
    }
   ],
   "source": [
    "elemente = \"1,12,12,13,13,13,13,abc,test,1.23\"\n",
    "elemente = elemente.split(\",\")\n",
    "print(elemente)\n",
    "\n",
    "ganzzahlen = []\n",
    "vorkommen = {}\n",
    "rest = []\n",
    "\n",
    "for element in elemente:\n",
    "    if element.isdigit():\n",
    "        ganzzahlen.append(element)\n",
    "        zahl = int(element)\n",
    "        vorkommen[zahl] = vorkommen.get(zahl, 0) + 1\n",
    "    else:\n",
    "        rest.append(element)\n",
    "\n",
    "print(ganzzahlen)\n",
    "print(rest)\n",
    "print(vorkommen)"
   ]
  }
 ],
 "metadata": {
  "kernelspec": {
   "display_name": "Python 3",
   "language": "python",
   "name": "python3"
  },
  "language_info": {
   "codemirror_mode": {
    "name": "ipython",
    "version": 3
   },
   "file_extension": ".py",
   "mimetype": "text/x-python",
   "name": "python",
   "nbconvert_exporter": "python",
   "pygments_lexer": "ipython3",
   "version": "3.12.5"
  }
 },
 "nbformat": 4,
 "nbformat_minor": 5
}
