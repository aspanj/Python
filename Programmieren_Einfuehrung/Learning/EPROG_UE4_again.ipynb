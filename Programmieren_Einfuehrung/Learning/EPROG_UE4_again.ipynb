{
 "cells": [
  {
   "cell_type": "markdown",
   "metadata": {},
   "source": [
    "## Aufgabe 1: Liste aufteilen\n",
    "Schreibe eine Funktion `split_list(lst: list, num_sublists: int) -> list`, die eine gegebene Liste in (größtenteils) gleich große Unterlisten aufteilt.\n",
    "\n",
    "**Anforderungen:**\n",
    "- `num_sublists` gibt an, in wie viele Unterlisten `lst` aufgeteilt werden soll.\n",
    "- Die Funktion füllt alle Unterlisten so auf, dass die maximale Differenz in der Größe der Unterlisten 1 beträgt.\n",
    "- Falls `num_sublists` 0 ist, soll die originale Liste zurückgegeben werden.\n",
    "\n",
    "Beispiel-Aufrufe und Ergebnisse:\n",
    "\n",
    "`split_list([0,1,2,3], 2)` → `[[0,2],[1,3]]`\n",
    "\n",
    "`split_list([0,1,2,3], 1)` → `[[0,1,2,3]]`\n",
    "\n",
    "`split_list([0,1,2,3,4,5,6,7], 3)` → `[[0,3,6],[1,4,7],[2,5]]`\n",
    "\n",
    "`split_list([0,1,2,3,4,5,6,7], 0)` → `[0,1,2,3,4,5,6,7]`\n",
    "\n",
    "`split_list([0,1,2,3,4], 2)` → `[[0,2,4],[1,3]]`"
   ]
  },
  {
   "cell_type": "code",
   "execution_count": null,
   "metadata": {},
   "outputs": [
    {
     "name": "stdout",
     "output_type": "stream",
     "text": [
      "[[0, 1], [2, 3]]\n",
      "[[0, 1, 2, 3]]\n",
      "[[0, 1, 2], [3, 4, 5], [6, 7]]\n",
      "[0, 1, 2, 3, 4, 5, 6, 7]\n",
      "[[0, 1, 2], [3, 4]]\n"
     ]
    }
   ],
   "source": [
    "def split_list(lst: list, num_sublists: int) -> list:\n",
    "    if num_sublists == 0:\n",
    "        return lst\n",
    "\n",
    "    n = len(lst)\n",
    "    base_size = n // num_sublists\n",
    "    remainder = n % num_sublists\n",
    "\n",
    "    sublists = []\n",
    "    start = 0\n",
    "\n",
    "    for i in range(num_sublists):\n",
    "        end = start + base_size\n",
    "        if i < remainder:\n",
    "            end += 1\n",
    "        sublists.append(lst[start:end])\n",
    "        start = end\n",
    "\n",
    "    return sublists\n",
    "\n",
    "# Beispiel-Aufrufe und Ergebnisse\n",
    "print(split_list([0,1,2,3], 2))  # → [[0, 2], [1, 3]]\n",
    "print(split_list([0,1,2,3], 1))  # → [[0, 1, 2, 3]]\n",
    "print(split_list([0,1,2,3,4,5,6,7], 3))  # → [[0, 3, 6], [1, 4, 7], [2, 5]]\n",
    "print(split_list([0,1,2,3,4,5,6,7], 0))  # → [0, 1, 2, 3, 4, 5, 6, 7]\n",
    "print(split_list([0,1,2,3,4], 2))  # → [[0, 2, 4], [1, 3]]\n"
   ]
  },
  {
   "cell_type": "markdown",
   "metadata": {},
   "source": [
    "## Aufgabe 2: Werte begrenzen\n",
    "Schreibe eine Funktion `clip(*values, min_=0, max_=1) -> list`, die eine Liste von begrenzten Werten zurückgibt, basierend auf beliebig vielen Eingabewerten (`*values`).\n",
    "\n",
    "**Anforderungen:**\n",
    "- Wenn ein Wert kleiner als `min_` ist, füge `min_` zur Liste hinzu.\n",
    "- Wenn ein Wert größer als `max_` ist, füge `max_` zur Liste hinzu.\n",
    "- Andernfalls füge den ursprünglichen Wert zur Liste hinzu.\n",
    "\n",
    "Beispiel-Aufrufe und Ergebnisse:\n",
    "\n",
    "`clip()` → `[]`\n",
    "\n",
    "`clip(1, 2, 0.1, 0)` → `[1, 1, 0.1, 0]`\n",
    "\n",
    "`clip(-1, 0.5)` → `[0, 0.5]`\n",
    "\n",
    "`clip(-1, 0.5, min_=-2)` → `[-1, 0.5]`\n",
    "\n",
    "`clip(-1, 0.5, max_=0.3)` → `[0, 0.3]`\n",
    "\n",
    "`clip(-1, 0.5, min_=2, max_=3)` → `[2, 2]`"
   ]
  },
  {
   "cell_type": "code",
   "execution_count": 4,
   "metadata": {},
   "outputs": [
    {
     "data": {
      "text/plain": [
       "[1, 2, 0.1, 0, -10, 15]"
      ]
     },
     "execution_count": 4,
     "metadata": {},
     "output_type": "execute_result"
    }
   ],
   "source": [
    "def clip(*values, min_ = 0, max_ = 1) -> list:\n",
    "    new_lst = []\n",
    "    for zahl in values:\n",
    "        if zahl < max_ and zahl > min_:\n",
    "            new_lst.append(zahl)\n",
    "        elif zahl >= max_:\n",
    "            new_lst.append(max_)\n",
    "        else:\n",
    "            new_lst.append(min_)\n",
    "    return new_lst\n",
    "\n",
    "clip(1, 2, 0.1, 0, -10, 15, min_ = -11, max_ = 15.1)"
   ]
  }
 ],
 "metadata": {
  "kernelspec": {
   "display_name": "Python 3",
   "language": "python",
   "name": "python3"
  },
  "language_info": {
   "codemirror_mode": {
    "name": "ipython",
    "version": 3
   },
   "file_extension": ".py",
   "mimetype": "text/x-python",
   "name": "python",
   "nbconvert_exporter": "python",
   "pygments_lexer": "ipython3",
   "version": "3.12.5"
  }
 },
 "nbformat": 4,
 "nbformat_minor": 2
}
