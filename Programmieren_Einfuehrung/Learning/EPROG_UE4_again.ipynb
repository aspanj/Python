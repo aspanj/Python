{
 "cells": [
  {
   "cell_type": "markdown",
   "metadata": {},
   "source": [
    "## Aufgabe 1: Liste aufteilen\n",
    "Schreibe eine Funktion `split_list(lst: list, num_sublists: int) -> list`, die eine gegebene Liste in (größtenteils) gleich große Unterlisten aufteilt.\n",
    "\n",
    "**Anforderungen:**\n",
    "- `num_sublists` gibt an, in wie viele Unterlisten `lst` aufgeteilt werden soll.\n",
    "- Die Funktion füllt alle Unterlisten so auf, dass die maximale Differenz in der Größe der Unterlisten 1 beträgt.\n",
    "- Falls `num_sublists` 0 ist, soll die originale Liste zurückgegeben werden.\n",
    "\n",
    "Beispiel-Aufrufe und Ergebnisse:\n",
    "\n",
    "`split_list([0,1,2,3], 2)` → `[[0,2],[1,3]]`\n",
    "\n",
    "`split_list([0,1,2,3], 1)` → `[[0,1,2,3]]`\n",
    "\n",
    "`split_list([0,1,2,3,4,5,6,7], 3)` → `[[0,3,6],[1,4,7],[2,5]]`\n",
    "\n",
    "`split_list([0,1,2,3,4,5,6,7], 0)` → `[0,1,2,3,4,5,6,7]`\n",
    "\n",
    "`split_list([0,1,2,3,4], 2)` → `[[0,2,4],[1,3]]`"
   ]
  },
  {
   "cell_type": "code",
   "execution_count": 57,
   "metadata": {},
   "outputs": [
    {
     "name": "stdout",
     "output_type": "stream",
     "text": [
      "[[0, 1], [2, 3]]\n",
      "[[0, 1, 2, 3]]\n",
      "[[0, 1, 2], [3, 4, 5], [6, 7]]\n",
      "[0, 1, 2, 3, 4, 5, 6, 7]\n",
      "[[0, 1, 2], [3, 4]]\n"
     ]
    }
   ],
   "source": [
    "def split_list(lst: list, num_sublists: int) -> list:\n",
    "    if num_sublists == 0:\n",
    "        return lst\n",
    "\n",
    "    n = len(lst)\n",
    "    base_size = n // num_sublists\n",
    "    remainder = n % num_sublists\n",
    "\n",
    "    sublists = []\n",
    "    start = 0\n",
    "\n",
    "    for i in range(num_sublists):\n",
    "        end = start + base_size\n",
    "        if i < remainder:\n",
    "            end += 1\n",
    "        sublists.append(lst[start:end])\n",
    "        start = end\n",
    "\n",
    "    return sublists\n",
    "\n",
    "# Beispiel-Aufrufe und Ergebnisse\n",
    "print(split_list([0,1,2,3], 2))  # → [[0, 2], [1, 3]]\n",
    "print(split_list([0,1,2,3], 1))  # → [[0, 1, 2, 3]]\n",
    "print(split_list([0,1,2,3,4,5,6,7], 3))  # → [[0, 3, 6], [1, 4, 7], [2, 5]]\n",
    "print(split_list([0,1,2,3,4,5,6,7], 0))  # → [0, 1, 2, 3, 4, 5, 6, 7]\n",
    "print(split_list([0,1,2,3,4], 2))  # → [[0, 2, 4], [1, 3]]\n"
   ]
  }
 ],
 "metadata": {
  "kernelspec": {
   "display_name": "Python 3",
   "language": "python",
   "name": "python3"
  },
  "language_info": {
   "codemirror_mode": {
    "name": "ipython",
    "version": 3
   },
   "file_extension": ".py",
   "mimetype": "text/x-python",
   "name": "python",
   "nbconvert_exporter": "python",
   "pygments_lexer": "ipython3",
   "version": "3.12.5"
  }
 },
 "nbformat": 4,
 "nbformat_minor": 2
}
