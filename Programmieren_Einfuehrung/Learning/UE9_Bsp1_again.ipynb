{
 "cells": [
  {
   "cell_type": "markdown",
   "metadata": {},
   "source": [
    "## Aufgabe 1\n",
    "\n",
    "Erstellen Sie eine Klasse `Angle`, die Winkel in Grad (degree) in Bogenmaß (radian) und umgekehrt umwandelt. Die Klasse besitzt die folgenden Instanzattribute:\n",
    "\n",
    "- `degree: float`  \n",
    "  Repräsentiert den Winkel in Grad.\n",
    "- `radian: float`  \n",
    "  Repräsentiert den Winkel im Bogenmaß.\n",
    "\n",
    "Die Klasse besitzt die folgenden Instanzmethoden:\n",
    "\n",
    "- `__init__(self, degree: float = None, radian: float = None)`  \n",
    "  Initialisiert die Instanzattribute.\n",
    "  - Wenn nur der Grad angegeben ist, sollte das Attribut `radian` mit der Methode `deg_to_rad` (siehe unten) zugewiesen werden.\n",
    "  - Wenn nur das Bogenmaß angegeben ist, sollte das Attribut `degree` mit der Methode `rad_to_deg` (siehe unten) zugewiesen werden.\n",
    "  - Wenn beide Argumente angegeben sind, überprüfen Sie mit der Methode `consistency` (siehe unten), ob beide Werte dem gleichen Winkel entsprechen.\n",
    "  - Wenn kein Argument angegeben ist, werfen Sie einen `ValueError(\"Either degree or radian must be specified.\")`.\n",
    "\n",
    "- `consistency(self)`  \n",
    "  Überprüft, ob die Attribute `degree` und `radian` demselben Winkel entsprechen. Verwenden Sie `math.isclose()`, um die consistency zu überprüfen. Falls nicht, werfen Sie einen `ValueError(\"Degree and radian are not consistent.\")`.\n",
    "\n",
    "- `__eq__(self, other)`  \n",
    "  Wenn `other` eine Instanz von `Angle` ist, wird `True` zurückgegeben, wenn die Attribute `degree` und `radian` von `other` gleich denen von `self` sind, ansonsten `False`. Wenn `other` keine Instanz von `Angle` ist, wird `NotImplemented` zurückgegeben. Verwenden Sie `math.isclose()`, um die Gleichheit zu überprüfen.\n",
    "\n",
    "- `__repr__(self)`  \n",
    "  Gibt den folgenden String zurück: `\"Angle(degree=<degree>, radian=<radian>)\"`, wobei `<degree>` der Winkel in Grad und `<radian>` der Winkel im Bogenmaß ist. Beide Werte sollten auf 3 Dezimalstellen angezeigt werden.\n",
    "\n",
    "- `__str__(self)`  \n",
    "  Gibt den folgenden String zurück: `\"<degree> deg = <radian> rad\"`, wobei `<degree>` der Winkel in Grad und `<radian>` der Winkel im Bogenmaß ist. Beide Werte sollten auf 2 Dezimalstellen gerundet angezeigt werden. Beispiel: `\"90.00 deg = 1.57 rad\"`\n",
    "\n",
    "- `__add__(self, other)`  \n",
    "  Wenn `other` eine Instanz von `Angle` ist, addiert `other` zu `self` und gibt ein neues `Angle`-Objekt mit dem Ergebnis dieser Addition zurück. Die Addition erfolgt sowohl für `<degree>` als auch für `<radian>`. Andernfalls wird `NotImplemented` zurückgegeben.\n",
    "\n",
    "- `__iadd__(self, other)`  \n",
    "  Wenn `other` eine Instanz von `Angle` ist, wird `other` zu `self` hinzugefügt (In-Place) und `self` wird zurückgegeben. Die Addition erfolgt sowohl für `<degree>` als auch für `<radian>` und überprüft die Konsistenz mit der Methode `consistency`. Andernfalls wird `NotImplemented` zurückgegeben.\n",
    "\n",
    "##### Und folgende Statische Methoden (@staticmethod):\n",
    "- `deg_to_rad(degree)`  \n",
    "  Wandelt einen Winkel von Grad in Bogenmaß um mit `degree * (π/180)`. Verwenden Sie `math.pi` für `π`.\n",
    "\n",
    "- `rad_to_deg(radian)`  \n",
    "  Wandelt einen Winkel von Bogenmaß in Grad um mit `radian * (180/π)`. Verwenden Sie `math.pi` für `π`.\n",
    "\n",
    "- `add_all(angle: Angle, *angles: Angle)`  \n",
    "  Addiert `angle` und alle Winkel in `*angles` zusammen und gibt ein neues `Angle`-Objekt zurück, das diese Summe enthält. Keines der Eingabeargumente darf verändert werden, d. h. alle Winkel, die durch `angle` und `*angles` angegeben werden, müssen unverändert bleiben."
   ]
  },
  {
   "cell_type": "code",
   "execution_count": null,
   "metadata": {},
   "outputs": [],
   "source": [
    "import math\n",
    "\n",
    "\n",
    "class Angle:\n",
    "    def __init__(self, degree: float = None, radian: float = None):\n",
    "        if degree is not None and radian is None:\n",
    "           self.degree = degree\n",
    "           self.radian = self.deg_to_rad(degree)\n",
    "        \n",
    "        elif radian is not None and degree is None:\n",
    "           self.radian = radian\n",
    "           self.degree = self.rad_to_deg(radian)\n",
    "\n",
    "            \n",
    "\n",
    "    @staticmethod\n",
    "    def deg_to_rad(degree):\n",
    "        return degree * (math.pi / 180)\n",
    "\n",
    "    @staticmethod\n",
    "    def rad_to_deg(radian):\n",
    "        return radian * (180 / math.pi)\n"
   ]
  }
 ],
 "metadata": {
  "kernelspec": {
   "display_name": "Python 3",
   "language": "python",
   "name": "python3"
  },
  "language_info": {
   "codemirror_mode": {
    "name": "ipython",
    "version": 3
   },
   "file_extension": ".py",
   "mimetype": "text/x-python",
   "name": "python",
   "nbconvert_exporter": "python",
   "pygments_lexer": "ipython3",
   "version": "3.12.5"
  }
 },
 "nbformat": 4,
 "nbformat_minor": 2
}
