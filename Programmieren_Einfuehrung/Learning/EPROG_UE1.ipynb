{
 "cells": [
  {
   "cell_type": "markdown",
   "id": "92168aea",
   "metadata": {},
   "source": [
    "# Einführung in das Programmieren: Übung 1"
   ]
  },
  {
   "cell_type": "markdown",
   "id": "d1fc3752",
   "metadata": {},
   "source": [
    "## Aufgabe 1 - Variablen, Operatoren und Konsolenausgabe"
   ]
  },
  {
   "cell_type": "markdown",
   "id": "8c0f37ed",
   "metadata": {},
   "source": [
    "Erstellen Sie vier Variablen der Datentypen bool, int, float und str. Verwenden Sie beliebige Variablennamen und Werte. Geben Sie die Variablen mit den folgenden zusätzlichen Formatierungen aus:\n",
    "- int mit einer Mindestbreite von 5 und führenden Nullen.\n",
    "- float mit einer Mindestbreite von 10 und auf 3 Dezimalstellen genau.\n",
    "- string dreimal hintereinander. Z.B. Wenn der string so lautet: \"test\", soll \"testtesttest\" ausgegeben werden."
   ]
  },
  {
   "cell_type": "code",
   "execution_count": 12,
   "id": "673b3e31",
   "metadata": {},
   "outputs": [
    {
     "name": "stdout",
     "output_type": "stream",
     "text": [
      "True\n",
      "00012\n",
      "     1.500\n",
      "hellohellohello\n"
     ]
    }
   ],
   "source": [
    "# your code here \n",
    "\n",
    "dt_bool = True\n",
    "dt_int = 12 \n",
    "dt_float = 1.5 \n",
    "dt_str = \"hello\" \n",
    "\n",
    "print(f\"{dt_bool}\") \n",
    "print(f\"{dt_int:05d}\")\n",
    "print(f\"{dt_float:10.3f}\")\n",
    "print(f\"{dt_str}\" * 3)"
   ]
  },
  {
   "cell_type": "markdown",
   "id": "499f9589",
   "metadata": {},
   "source": [
    "## Aufgabe 2 - Konsoleneingabe und Berechnungen"
   ]
  },
  {
   "cell_type": "markdown",
   "id": "6b8b4c95",
   "metadata": {},
   "source": [
    "Lesen Sie vier Zahlen a, b, c und d von der Konsole ein und konvertieren Sie sie in Ganzzahlen. Führen Sie die folgenden Berechnungen durch und geben Sie die Ergebnisse aus:\n",
    "- Summe von a, b und d\n",
    "- Produkt aller vier Zahlen\n",
    "- Summe von a und b multipliziert mit der Summe von c und d\n",
    "- Ergebnis der Ganzzahldivision von a durch d\n",
    "- Ergebnis der regulären Division von a durch d\n",
    "- Rest der Division von a durch b (Modulo)\n",
    "- c<sup>-a</sup>\n",
    "- Quadratwurzel von b"
   ]
  },
  {
   "cell_type": "code",
   "execution_count": 19,
   "id": "ce13fcfd",
   "metadata": {},
   "outputs": [
    {
     "name": "stdout",
     "output_type": "stream",
     "text": [
      "Summe von a, b und d: 56\n",
      "Produkt aller Zahlen: 116280\n",
      "Die Summe von a und b multipliziert mit der Summe von c und d: 11934\n",
      "a geteilt durch d (int): 1\n",
      "a geteilt durch d (float): 1.1764705882352942\n",
      "Rest von a geteilt durch b: 1\n",
      "c hoch -a: 7.844222393007239e-26\n",
      "hoch 1/2 (Quadratwurzel): 4.358898943540674\n"
     ]
    }
   ],
   "source": [
    "# your code here\n",
    "\n",
    "\n",
    "a = 20\n",
    "b = 19 \n",
    "c = 18 \n",
    "d = 17 \n",
    "\n",
    "summe = a + b + d\n",
    "\n",
    "produkt = a * b * c * d\n",
    "\n",
    "sumprod = (a + b) * (c * d)\n",
    "\n",
    "ganzzahl = a // d\n",
    "\n",
    "regdiv = a / d\n",
    "\n",
    "modulo = a % b\n",
    "\n",
    "exp = c ** -a\n",
    "\n",
    "wurzel = b ** 0.5\n",
    "\n",
    "print(f\"Summe von a, b und d: {summe}\")\n",
    "print(f\"Produkt aller Zahlen: {produkt}\")\n",
    "print(f\"Die Summe von a und b multipliziert mit der Summe von c und d: {sumprod}\")\n",
    "print(f\"a geteilt durch d (int): {ganzzahl}\")\n",
    "print(f\"a geteilt durch d (float): {regdiv}\")\n",
    "print(f\"Rest von a geteilt durch b: {modulo}\")\n",
    "print(f\"c hoch -a: {exp}\")\n",
    "print(f\"hoch 1/2 (Quadratwurzel): {wurzel}\")\n"
   ]
  },
  {
   "cell_type": "markdown",
   "id": "8df84fc2",
   "metadata": {},
   "source": [
    "## Aufgabe 3 - Raummaße berechnen"
   ]
  },
  {
   "cell_type": "markdown",
   "id": "aeef9ab5",
   "metadata": {},
   "source": [
    "Berechnen Sie mehrere Metriken eines Raumes basierend auf der vom Benutzer angegebenen Länge, Breite und Höhe (in Metern):\n",
    "- Umfang des Raumes\n",
    "- Volumen des Raumes\n",
    "- Wandfläche des Raumes"
   ]
  },
  {
   "cell_type": "code",
   "execution_count": 1,
   "id": "e1bd9b13",
   "metadata": {},
   "outputs": [
    {
     "name": "stdout",
     "output_type": "stream",
     "text": [
      "Umfang: 12 Meter\n",
      "Volumen: 24 Kubikmeter\n",
      "Wandfläche: 28 Quadratmeter\n"
     ]
    }
   ],
   "source": [
    "# your code here\n",
    "\n",
    "lange = 2\n",
    "breite = 4\n",
    "hohe = 3\n",
    "\n",
    "umfang = 2 * lange + 2 * breite\n",
    "\n",
    "volumen = lange * breite * hohe\n",
    "\n",
    "wand = 2 * (lange * hohe) + 2 * (lange * breite)\n",
    "\n",
    "print(f\"Umfang: {umfang} Meter\")\n",
    "print(f\"Volumen: {volumen} Kubikmeter\")\n",
    "print(f\"Wandfläche: {wand} Quadratmeter\")"
   ]
  },
  {
   "cell_type": "markdown",
   "id": "737ad156",
   "metadata": {},
   "source": [
    "## Aufgabe 4 - Bestellformular für PC-Teile"
   ]
  },
  {
   "cell_type": "markdown",
   "id": "50708078",
   "metadata": {},
   "source": [
    "Schreiben Sie ein Programm, das ein Bestellformular für ein Geschäft, das PC-Teile verkauft, erstellt. Lesen Sie die Anzahl der bestellten Kabel, Monitore und Tastaturen ein, berechnen Sie die Gesamtkosten und geben Sie die Ergebnisse formatiert aus.\n",
    "    \n",
    "Schreiben Sie ein Programm, das ein kleines Bestellformular für ein Geschäft, das PC-Teile verkauft, drucken kann (siehe das Beispiel unten für Ausgabe). Sie müssen drei ganze Zahlen einlesen, die dann Teil einer solchen Bestellung sind:\n",
    "\n",
    "        Die Anzahl der bestellten Kabel. Jedes Kabel kostet 9,90 Euro.\n",
    "        Die Anzahl der bestellten Monitore. Jeder Monitor kostet 249,99 Euro.\n",
    "        Die Anzahl der bestellten Tastaturen. Jede Tastatur kostet 27,50 Euro.\n",
    "Berechnen Sie die Gesamtkosten für diese drei Positionen und schließlich die Gesamtkosten der gesamten Bestellung. Die Anzahl der bestellten Artikel muss eine Mindestdruckbreite von 3 haben (nur die Ausgabe muss formatiert werden, nicht die Benutzereingabe). Alle float-Ergebnisse müssen mit 2 Dezimalstellen gedruckt werden."
   ]
  },
  {
   "cell_type": "code",
   "execution_count": null,
   "id": "7310d537",
   "metadata": {},
   "outputs": [],
   "source": [
    "# your code here\n",
    "\n",
    "amount_kabel = 3\n",
    "amount_monitore = 3\n",
    "amount_keyboard = 3\n",
    "\n",
    "price_kabel = 9.90\n",
    "price_monitore = 249.99\n",
    "price_keyboard = 27.50\n",
    "\n",
    "\n",
    "\n",
    "\n",
    "print(f\"Die Anzahl der bestellten Kabel. Jedes Kabel kostet 9,90 Euro.\")\n",
    "print(f\"Die Anzahl der bestellten Monitore. Jeder Monitor kostet 249,99 Euro.\")\n",
    "print(f\"Die Anzahl der bestellten Tastaturen. Jede Tastatur kostet 27,50 Euro.\")"
   ]
  }
 ],
 "metadata": {
  "kernelspec": {
   "display_name": "Python 3",
   "language": "python",
   "name": "python3"
  },
  "language_info": {
   "codemirror_mode": {
    "name": "ipython",
    "version": 3
   },
   "file_extension": ".py",
   "mimetype": "text/x-python",
   "name": "python",
   "nbconvert_exporter": "python",
   "pygments_lexer": "ipython3",
   "version": "3.12.5"
  }
 },
 "nbformat": 4,
 "nbformat_minor": 5
}
