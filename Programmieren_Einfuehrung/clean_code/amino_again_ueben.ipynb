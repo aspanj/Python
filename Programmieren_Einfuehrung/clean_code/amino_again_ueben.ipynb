{
 "cells": [
  {
   "cell_type": "markdown",
   "metadata": {},
   "source": [
    "**Aufgabe: ProteinAnalyzer und EnzymeAnalyzer**\n",
    "\n",
    "Erstelle eine Klasse `ProteinAnalyzer`, die folgende Funktionalitäten bietet:  \n",
    "1. Akzeptiert eine Proteinsequenz (bestehend aus den 20 kanonischen Aminosäuren: \"ACDEFGHIKLMNPQRSTVWY\") als Eingabe.  \n",
    "   - Validiert, dass nur gültige Aminosäuren enthalten sind.  \n",
    "2. Berechnet die Länge der Sequenz.  \n",
    "3. Erstellt eine Aminosäuren-Zusammensetzung als Wörterbuch, das die Häufigkeit jeder Aminosäure in der Sequenz enthält.  \n",
    "4. Implementiert eine Methode `most_frequent_residue`, die die häufigste Aminosäure zurückgibt.  \n",
    "5. Implementiert eine Methode `hydrophobic_residues`, die eine Liste der hydrophoben Aminosäuren in der Sequenz zurückgibt. Nutze die hydrophoben Aminosäuren: \"A\", \"V\", \"I\", \"L\", \"M\", \"F\", \"W\", \"Y\".  \n",
    "\n",
    "Erstelle dann eine abgeleitete Klasse `EnzymeAnalyzer`, die zusätzlich folgende Funktionalitäten bietet:  \n",
    "1. Nimmt eine Proteinsequenz und eine Liste von Enzymschnittstellen als Eingabe. Jede Schnittstelle ist durch eine Sequenz (z. B. \"KR\" oder \"RG\") definiert.  \n",
    "2. Validiert, dass die Schnittstellen aus gültigen Aminosäuren bestehen.  \n",
    "3. Implementiert eine Methode `find_cut_sites`, die alle Positionen in der Proteinsequenz zurückgibt, an denen die Enzymschnittstellen gefunden werden.  \n",
    "4. Implementiert eine Methode `digest`, die die Proteinsequenz basierend auf den Schnittstellen in Fragmente zerlegt und diese als Liste zurückgibt.  \n",
    "\n",
    "**Zusatz:**\n",
    "- Stelle sicher, dass alle Eigenschaften und Methoden sinnvoll durch Vererbung genutzt werden.  \n",
    "- Füge sinnvolle Methoden zur Darstellung (`__repr__`) und zum Kombinieren von Objekten (`__add__`) hinzu.  \n",
    "- Schreibe Beispielaufrufe für beide Klassen, die die wichtigsten Methoden demonstrieren.  \n",
    "\n",
    "---\n",
    "\n",
    "Viel Erfolg! 😊"
   ]
  },
  {
   "cell_type": "code",
   "execution_count": null,
   "metadata": {},
   "outputs": [
    {
     "data": {
      "text/plain": [
       "{'KR': [6], 'RG': []}"
      ]
     },
     "execution_count": 50,
     "metadata": {},
     "output_type": "execute_result"
    }
   ],
   "source": [
    "class ProteinAnalyzer:\n",
    "    AMINO_ACIDS = \"ACDEFGHIKLMNPQRSTVWY\"\n",
    "    HYDROPHOBIC_ACIDS = \"A\", \"V\", \"I\", \"L\", \"M\", \"F\", \"W\", \"Y\"\n",
    "\n",
    "    def __init__(self, sequence):\n",
    "        for amino in sequence:\n",
    "            if amino not in self.AMINO_ACIDS:\n",
    "                raise ValueError(\"Non Valid Amino Acid in Sequence\")\n",
    "        self.sequence = sequence\n",
    "    \n",
    "    def show_len(self):\n",
    "        return len(self.sequence)\n",
    "\n",
    "    def show_amino(self):\n",
    "        amino_dict = {amino: 0 for amino in self.AMINO_ACIDS}\n",
    "        for amino in self.sequence:\n",
    "            if amino in amino_dict:\n",
    "                amino_dict[amino] += 1\n",
    "        return amino_dict\n",
    "    \n",
    "    def most_frequent_residue(self):\n",
    "        amino_dict = self.show_amino()\n",
    "        max_count = max(amino_dict.values())\n",
    "        for key, value in amino_dict.items():\n",
    "            if value == max_count:\n",
    "                return f\"AA {key} am häufigsten mit {value} vorkommen\"\n",
    "            \n",
    "    def hydrophobic_residues(self):\n",
    "        hydrophobic_list = []\n",
    "        for amino in self.sequence:\n",
    "            if amino in self.HYDROPHOBIC_ACIDS:\n",
    "                hydrophobic_list.append(amino)\n",
    "        return hydrophobic_list\n",
    "\n",
    "    def display(self):\n",
    "        print(self.sequence)\n",
    "\n",
    "class EnzymeAnalyzer(ProteinAnalyzer):\n",
    "    def __init__(self, sequence, cut_sites):\n",
    "        super().__init__(sequence)\n",
    "        self.cut_sites = cut_sites\n",
    "        for cut in cut_sites:\n",
    "            for amino in cut:\n",
    "                if amino not in self.AMINO_ACIDS:\n",
    "                    raise ValueError(\"Amino Acid in Cut Site not valid!\")\n",
    "\n",
    "    def find_cut_sites(self):\n",
    "        cut_site_positions = {}\n",
    "        for site in self.cut_sites:\n",
    "            positions = []\n",
    "            for i in range(len(self.sequence) - len(site) + 1):\n",
    "                if self.sequence[i:i+len(site)] == site:\n",
    "                    positions.append(i)\n",
    "            cut_site_positions[site] = positions\n",
    "        return cut_site_positions\n",
    "\n",
    "    def digest(self):\n",
    "        pass\n",
    "\n",
    "    def display(self):\n",
    "        print(self.sequence, self.cut_sites)\n",
    "\n",
    "\n",
    "\n",
    "seq1 = ProteinAnalyzer(\"AACCDDWKRWWWIII\")\n",
    "seq2 = EnzymeAnalyzer(\"AAWWWIKRIILLL\", [\"KR\", \"RG\"])\n",
    "seq2.find_cut_sites()\n",
    "\n",
    "#seq1.display()\n",
    "#seq1.show_len()\n",
    "#seq1.show_amino()\n",
    "#seq1.most_frequent_residue()\n",
    "#seq1.hydrophobic_residues()"
   ]
  }
 ],
 "metadata": {
  "kernelspec": {
   "display_name": "eprog",
   "language": "python",
   "name": "python3"
  },
  "language_info": {
   "codemirror_mode": {
    "name": "ipython",
    "version": 3
   },
   "file_extension": ".py",
   "mimetype": "text/x-python",
   "name": "python",
   "nbconvert_exporter": "python",
   "pygments_lexer": "ipython3",
   "version": "3.13.0"
  }
 },
 "nbformat": 4,
 "nbformat_minor": 2
}
