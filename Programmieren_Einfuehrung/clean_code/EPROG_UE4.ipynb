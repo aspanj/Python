{
 "cells": [
  {
   "cell_type": "markdown",
   "id": "b3fd7d21",
   "metadata": {},
   "source": [
    "# Einführung in das Programmieren - Übung 4\n",
    "\n",
    "### Sie dürfen für diese Übung auch Konzepte/Funktionen verwenden, die wir nicht bereits behandelt haben, aber keine zusätzlichen packages importieren."
   ]
  },
  {
   "cell_type": "markdown",
   "id": "47256bcd",
   "metadata": {},
   "source": [
    "## Aufgabe 1: Liste aufteilen\n",
    "Schreibe eine Funktion `split_list(lst: list, num_sublists: int) -> list`, die eine gegebene Liste in (größtenteils) gleich große Unterlisten aufteilt.\n",
    "\n",
    "**Anforderungen:**\n",
    "- `num_sublists` gibt an, in wie viele Unterlisten `lst` aufgeteilt werden soll.\n",
    "- Die Funktion füllt alle Unterlisten so auf, dass die maximale Differenz in der Größe der Unterlisten 1 beträgt.\n",
    "- Falls `num_sublists` 0 ist, soll die originale Liste zurückgegeben werden.\n",
    "\n",
    "Beispiel-Aufrufe und Ergebnisse:\n",
    "\n",
    "`split_list([0,1,2,3], 2)` → `[[0,2],[1,3]]`\n",
    "\n",
    "`split_list([0,1,2,3], 1)` → `[[0,1,2,3]]`\n",
    "\n",
    "`split_list([0,1,2,3,4,5,6,7], 3)` → `[[0,3,6],[1,4,7],[2,5]]`\n",
    "\n",
    "`split_list([0,1,2,3,4,5,6,7], 0)` → `[0,1,2,3,4,5,6,7]`\n",
    "\n",
    "`split_list([0,1,2,3,4], 2)` → `[[0,2,4],[1,3]]`"
   ]
  },
  {
   "cell_type": "code",
   "execution_count": 1,
   "id": "e9e5b48c",
   "metadata": {},
   "outputs": [
    {
     "data": {
      "text/plain": [
       "[[0, 1], [2, 3], [4], [5], [6], [7]]"
      ]
     },
     "execution_count": 1,
     "metadata": {},
     "output_type": "execute_result"
    }
   ],
   "source": [
    "def split_list(lst: list, num_sublists: int) -> list:\n",
    "    if num_sublists == 0:\n",
    "        return lst\n",
    "\n",
    "    n = len(lst)\n",
    "    base_size = n // num_sublists\n",
    "    remainder = n % num_sublists\n",
    "\n",
    "    sublists = []\n",
    "    start = 0\n",
    "\n",
    "    for i in range(num_sublists):\n",
    "        end = start + base_size\n",
    "        if i < remainder:\n",
    "            end += 1\n",
    "        sublists.append(lst[start:end])\n",
    "        start = end\n",
    "\n",
    "    return sublists\n",
    "\n",
    "split_list([0, 1, 2, 3, 4, 5, 6, 7], 6)"
   ]
  },
  {
   "cell_type": "markdown",
   "id": "381732f5",
   "metadata": {},
   "source": [
    "## Aufgabe 2: Werte begrenzen\n",
    "Schreibe eine Funktion `clip(*values, min_=0, max_=1) -> list`, die eine Liste von begrenzten Werten zurückgibt, basierend auf beliebig vielen Eingabewerten (`*values`).\n",
    "\n",
    "**Anforderungen:**\n",
    "- Wenn ein Wert kleiner als `min_` ist, füge `min_` zur Liste hinzu.\n",
    "- Wenn ein Wert größer als `max_` ist, füge `max_` zur Liste hinzu.\n",
    "- Andernfalls füge den ursprünglichen Wert zur Liste hinzu.\n",
    "\n",
    "Beispiel-Aufrufe und Ergebnisse:\n",
    "\n",
    "`clip()` → `[]`\n",
    "\n",
    "`clip(1, 2, 0.1, 0)` → `[1, 1, 0.1, 0]`\n",
    "\n",
    "`clip(-1, 0.5)` → `[0, 0.5]`\n",
    "\n",
    "`clip(-1, 0.5, min_=-2)` → `[-1, 0.5]`\n",
    "\n",
    "`clip(-1, 0.5, max_=0.3)` → `[0, 0.3]`\n",
    "\n",
    "`clip(-1, 0.5, min_=2, max_=3)` → `[2, 2]`"
   ]
  },
  {
   "cell_type": "code",
   "execution_count": 1,
   "id": "81f818a1",
   "metadata": {},
   "outputs": [
    {
     "name": "stdout",
     "output_type": "stream",
     "text": [
      "(0.9, 3, 5, 0.1, 0.001, 2, 3, 0.999, -3, 10, 12, -15)\n",
      "[0.9, 3, 3, 0.1, 0.001, 2, 3, 0.999, 0, 3, 3, 0]\n"
     ]
    }
   ],
   "source": [
    "# your code here\n",
    "\n",
    "values = 0.9,3,5,0.1,0.001,2,3,0.999,-3,10,12,-15\n",
    "\n",
    "lst = []\n",
    "\n",
    "def clip(values, min = 0, max = 1):\n",
    "    for i in values:\n",
    "        if i >= min and i <= max:\n",
    "            lst.append(i)\n",
    "        elif i > max: \n",
    "            lst.append(max)\n",
    "        elif i < min:\n",
    "            lst.append(min)\n",
    "\n",
    "print(values)\n",
    "clip(values, min = 0, max = 3)\n",
    "print(lst)\n"
   ]
  },
  {
   "cell_type": "markdown",
   "id": "eab1652a",
   "metadata": {},
   "source": [
    "## Aufgabe 3: Runden\n",
    "Schreibe eine Funktion `round_(number, ndigits: int = None)`, die eine gegebene Zahl auf eine bestimmte Anzahl von Dezimalstellen rundet.\n",
    "\n",
    "**Anforderungen:**\n",
    "- Falls `ndigits` `None` ist, soll auf 0 Dezimalstellen gerundet und ein Integer zurückgegeben werden.\n",
    "- Andernfalls wird auf `ndigits` Dezimalstellen gerundet und ein Float zurückgegeben.\n",
    "- Verwende nicht die eingebaute Funktion `round()`.\n",
    "\n",
    "Beispiel-Aufrufe und Ergebnisse:\n",
    "\n",
    "`round_(777.777)` → `778`\n",
    "\n",
    "`round_(777.777, 0)` → `778.0`\n",
    "\n",
    "`round_(777.777, 1)` → `777.8`\n",
    "\n",
    "`round_(777.777, 2)` → `777.78`\n"
   ]
  },
  {
   "cell_type": "code",
   "execution_count": 2,
   "id": "355f181f",
   "metadata": {},
   "outputs": [
    {
     "name": "stdout",
     "output_type": "stream",
     "text": [
      "778\n",
      "scaled 777.777\n",
      "778\n",
      "778.0\n",
      "scaled 7777.77\n",
      "7778\n",
      "777.8\n",
      "scaled 77777.70000000001\n",
      "77778\n",
      "777.78\n",
      "4\n",
      "3\n",
      "scaled 3141.592\n",
      "3142\n",
      "3.142\n",
      "-4\n",
      "-3\n"
     ]
    }
   ],
   "source": [
    "def round_(number, ndigits: int = None):\n",
    "    if ndigits is None:\n",
    "        # Aufrunden oder Abrunden je nach Komma-Anteil\n",
    "        if number >= 0:\n",
    "            return int(number + 0.5)\n",
    "        else:\n",
    "            return int(number - 0.5)\n",
    "    else:\n",
    "        # Zahl skalieren, runden, dann zurückskalieren\n",
    "        factor = 10 ** ndigits\n",
    "        scaled_number = number * factor\n",
    "        print(\"scaled\", scaled_number)\n",
    "        if scaled_number >= 0:\n",
    "            rounded_scaled = int(scaled_number + 0.5)\n",
    "            print(rounded_scaled)\n",
    "        else:\n",
    "            rounded_scaled = int(scaled_number - 0.5)\n",
    "        \n",
    "        return rounded_scaled / factor\n",
    "\n",
    "print(round_(777.777))     # 778\n",
    "print(round_(777.777, 0))  # 778.0  \n",
    "print(round_(777.777, 1))  # 777.8\n",
    "print(round_(777.777, 2))  # 777.78\n",
    "\n",
    "# Weitere Testfälle\n",
    "print(round_(3.5))         # 4\n",
    "print(round_(3.4))         # 3\n",
    "print(round_(3.141592, 3)) # 3.142\n",
    "print(round_(-3.5))        # -4\n",
    "print(round_(-3.4))        # -3"
   ]
  },
  {
   "cell_type": "markdown",
   "id": "0c1d2969",
   "metadata": {},
   "source": [
    "## Aufgabe 4: Sortieren\n",
    "Schreibe eine Funktion `sort(elements: list, ascending: bool = True)`, die die angegebene Liste sortiert (in-place, d.h., die Liste wird direkt verändert).\n",
    "Sie können davon ausgehen, dass alle Elemente in der List integers sind!\n",
    "\n",
    "**Anforderungen:**\n",
    "- Die Funktion verwendet den Insertion Sort Algorithmus, um die Liste zu sortieren.\n",
    "- Der Parameter `ascending` gibt an, ob aufsteigend oder absteigend sortiert wird.\n",
    "\n",
    "Beispiel-Aufrufe und Ergebnisse:\n",
    "\n",
    "`sort(some_list)` → `some_list hat nun den Inhalt [0, 1, 3, 4, 5]`\n",
    "\n",
    "`sort(some_list, ascending=False)` → `some_list hat nun den Inhalt [5, 4, 3, 1, 0]`\n"
   ]
  },
  {
   "cell_type": "code",
   "execution_count": 3,
   "id": "c336154c",
   "metadata": {},
   "outputs": [
    {
     "name": "stdout",
     "output_type": "stream",
     "text": [
      "[0, 1, 3, 4, 5]\n",
      "[5, 4, 3, 1, 0]\n"
     ]
    }
   ],
   "source": [
    "# your code here\n",
    "def sort(elements: list, ascending: bool = True):\n",
    "    n = len(elements)\n",
    "    \n",
    "    for i in range(1, n):\n",
    "        key = elements[i]\n",
    "        j = i - 1\n",
    "        \n",
    "        # Bestimmen der Richtung (aufsteigend oder absteigend)\n",
    "        while j >= 0 and ((ascending and elements[j] > key) or (not ascending and elements[j] < key)):\n",
    "            elements[j + 1] = elements[j]\n",
    "            j -= 1\n",
    "        \n",
    "        elements[j + 1] = key\n",
    "\n",
    "# Beispiel-Aufrufe\n",
    "some_list = [3, 1, 4, 5, 0]\n",
    "sort(some_list)\n",
    "print(some_list)  # some_list hat nun den Inhalt [0, 1, 3, 4, 5]\n",
    "\n",
    "some_list = [3, 1, 4, 5, 0]\n",
    "sort(some_list, ascending=False)\n",
    "print(some_list)  # some_list hat nun den Inhalt [5, 4, 3, 1, 0]\n"
   ]
  }
 ],
 "metadata": {
  "kernelspec": {
   "display_name": "Python 3",
   "language": "python",
   "name": "python3"
  },
  "language_info": {
   "codemirror_mode": {
    "name": "ipython",
    "version": 3
   },
   "file_extension": ".py",
   "mimetype": "text/x-python",
   "name": "python",
   "nbconvert_exporter": "python",
   "pygments_lexer": "ipython3",
   "version": "3.12.5"
  }
 },
 "nbformat": 4,
 "nbformat_minor": 5
}
