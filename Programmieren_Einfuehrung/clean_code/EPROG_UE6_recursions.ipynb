{
 "cells": [
  {
   "cell_type": "markdown",
   "id": "afb6aad0",
   "metadata": {},
   "source": [
    "# Einführung in das Programmieren - Übung 6"
   ]
  },
  {
   "cell_type": "markdown",
   "id": "1b7f0b41",
   "metadata": {},
   "source": [
    "## Aufgabe 1: Summierung von verschachtelten Listen\n",
    "\n",
    "Schreiben Sie eine Funktion `sub_summarize(nested: list, sub_sums: list) -> int`, die die Summe der Eingabeliste `nested` und aller ihrer beliebig verschachtelten Unterlisten berechnet. \n",
    "Die berechneten Summen jeder Unterliste werden in der Liste `sub_sums` gespeichert, und die Summe der gesamten Liste wird als Rückgabewert zurückgegeben. Verwenden Sie Rekursion, um diese Funktion zu implementieren.\n",
    "\n",
    "**Beispiel-Aufrufe und Ergebnisse:**\n",
    "\n",
    "```\n",
    "nested = [1, 2, 3, [4, [5, 6], 7], 8, [9, 10]]\n",
    "sub_sums = []\n",
    "sub_summarize(nested, sub_sums) -> 55\n",
    "sub_sums -> [11, 22, 19, 55]\n",
    "```\n",
    "\n",
    "**Hinweise:**\n",
    "- Sie können überprüfen, ob ein Objekt ein bestimmter Datentyp ist, indem Sie `isinstance(OBJECT, TYPE)` verwenden."
   ]
  },
  {
   "cell_type": "code",
   "execution_count": 2,
   "id": "a77bc340",
   "metadata": {},
   "outputs": [
    {
     "name": "stdout",
     "output_type": "stream",
     "text": [
      "unten 1\n",
      "unten 3\n",
      "unten 6\n",
      "unten 4\n",
      "unten 5\n",
      "unten 11\n",
      "oben 15\n",
      "[11]\n",
      "unten 22\n",
      "oben 28\n",
      "[11, 22]\n",
      "unten 36\n",
      "unten 9\n",
      "unten 19\n",
      "oben 55\n",
      "[11, 22, 19]\n"
     ]
    },
    {
     "data": {
      "text/plain": [
       "55"
      ]
     },
     "execution_count": 2,
     "metadata": {},
     "output_type": "execute_result"
    }
   ],
   "source": [
    "#\n",
    "#[4, [5, 6], 7]\n",
    "#[5, 6]\n",
    "#[9, 10]\n",
    "\n",
    "\n",
    "\n",
    "\n",
    "# your code here\n",
    "nested = [1, 2, 3, [4, [5, 6], 7], 8, [9, 10]]\n",
    "sub_sums = []\n",
    "sub_lists = []\n",
    "\n",
    "def sub_summarize(nested: list, sub_sums: list) -> int:\n",
    "    \n",
    "    total = 0\n",
    "\n",
    "    for listen in nested:\n",
    "\n",
    "        if isinstance(listen, list):\n",
    "            rückgabe = sub_summarize(listen, sub_sums)\n",
    "            total += rückgabe\n",
    "            print(\"oben\", total)\n",
    "            sub_sums.append(rückgabe)\n",
    "            print(sub_sums)\n",
    "        else:\n",
    "            total += listen\n",
    "            print(\"unten\", total)\n",
    "\n",
    "    return total\n",
    "\n",
    "sub_summarize(nested, sub_sums)"
   ]
  },
  {
   "cell_type": "code",
   "execution_count": 67,
   "id": "7037179a",
   "metadata": {},
   "outputs": [
    {
     "name": "stdout",
     "output_type": "stream",
     "text": [
      "2\n"
     ]
    }
   ],
   "source": [
    "print(True + True)"
   ]
  },
  {
   "cell_type": "code",
   "execution_count": null,
   "id": "54bf1b07",
   "metadata": {},
   "outputs": [],
   "source": [
    "# ChatGPT\n",
    "def sub_summarize(nested: list, sub_sums: list) -> int:\n",
    "    # Berechnet die Summe aller Elemente in der aktuellen Liste\n",
    "    total = 0\n",
    "    for element in nested:\n",
    "        if isinstance(element, list):  # Wenn das Element eine Unterliste ist\n",
    "            # Rekursiver Aufruf zur Berechnung der Summe der Unterliste\n",
    "            sub_sum = sub_summarize(element, sub_sums)\n",
    "            total += sub_sum  # Füge die Summe der Unterliste zur Gesamtsumme hinzu\n",
    "        else:\n",
    "            total += element  # Füge den Wert des Elements zur Gesamtsumme hinzu\n",
    "\n",
    "    # Speichert die berechnete Summe der aktuellen Liste in der Liste sub_sums\n",
    "    sub_sums.append(total)\n",
    "    return total  # Gibt die Gesamtsumme zurück\n"
   ]
  },
  {
   "cell_type": "code",
   "execution_count": null,
   "id": "141c31c6",
   "metadata": {},
   "outputs": [],
   "source": [
    "# Again ChatGPT\n",
    "\n",
    "def sub_summarize(nested: list, sub_sums: list) -> int:\n",
    "    total = 0\n",
    "    for item in nested:\n",
    "        if isinstance(item, list):\n",
    "            sub_total = sub_summarize(item, sub_sums)\n",
    "            sub_sums.append(sub_total)\n",
    "            total += sub_total\n",
    "        else:\n",
    "            total += item\n",
    "    return total\n",
    "\n",
    "# Beispiel-Aufrufe\n",
    "nested = [1, 2, 3, [4, [5, 6], 7], 8, [9, 10]]\n",
    "sub_sums = []\n",
    "result = sub_summarize(nested, sub_sums)\n",
    "print(result)  # 55\n",
    "print(sub_sums)  # [11, 22, 19, 55]"
   ]
  },
  {
   "cell_type": "markdown",
   "id": "d99b3768",
   "metadata": {},
   "source": [
    "## Aufgabe 2: Verzeichnisinhalt auflisten\n",
    "\n",
    "Schreiben Sie eine Funktion `print_directory(dir_path: str)`, die rekursiv alle Dateien und Unterverzeichnisse in einem angegebenen Verzeichnis auflistet und ausgibt. \n",
    "Falls `dir_path` ein Pfad zu einer Datei ist, soll die Funktion die Meldung \"`dir_path` ist eine Datei, kein Verzeichnis\" ausgeben. \n",
    "Falls `dir_path` ein Verzeichnis ist, soll die Funktion das Verzeichnis und alle enthaltenen Dateien und Unterverzeichnisse rekursiv auflisten. \n",
    "Falls der Pfad ungültig ist, soll \"`dir_path` ist ungültig\" ausgegeben werden.\n",
    "\n",
    "**Beispiel-Ausgabe für ein Verzeichnis:**\n",
    "\n",
    "```\n",
    "path_to_the_directory_d0\n",
    "d0.1\n",
    "    d0.1.1\n",
    "        f0.1.1.txt\n",
    "        f0.1.2.txt\n",
    "    d0.2\n",
    "        d0.2.1\n",
    "            f0.2.1.txt\n",
    "            f0.2.2.txt\n",
    "```\n",
    "\n",
    "- Nutzen Sie für Dateien und Unterverzeichnisse den Basisnamen, für das Wurzelverzeichnis jedoch den vollständigen Pfad.\n",
    "- Verwenden Sie keine built-in Funktionen, um Dateien und Verzeichnisse aufzulisten, außer folgende:\n",
    "  - `os.path.isfile`\n",
    "  - `os.path.isdir`\n",
    "  - `os.path.basename`\n",
    "  - `os.listdir`\n",
    "  - `os.path.join`\n",
    "\n",
    "**Hinweise:**\n",
    "- Sie können eine rekursive Funktion `print_directory_recursively(dir_path: str, level: int)` implementieren, bei der `level` die Tiefe eines (Unter-)Verzeichnisses angibt."
   ]
  },
  {
   "cell_type": "code",
   "execution_count": 1,
   "id": "58e6bc8a",
   "metadata": {},
   "outputs": [
    {
     "name": "stdout",
     "output_type": "stream",
     "text": [
      "C:/Users/janas/Documents/Python/Programmieren_Einfuehrung/UO1/txtuo1.txt ist eine Datei, kein Verzeichnis\n"
     ]
    }
   ],
   "source": [
    "# your code here\n",
    "import os\n",
    "\n",
    "def print_directory(dir_path: str):\n",
    "    if os.path.isdir(dir_path):\n",
    "        print(f\"Inhalt von {dir_path}:\")\n",
    "    \n",
    "    if os.path.isfile(dir_path):\n",
    "        print(f\"{dir_path} ist eine Datei, kein Verzeichnis\")\n",
    "        return\n",
    "        \n",
    "\n",
    "    print_directory_recursively(dir_path, 0)\n",
    "\n",
    "\n",
    "def print_directory_recursively(dir_path: str, level: int):\n",
    "\n",
    "    entries = os.listdir(dir_path)\n",
    "    #print(entries)\n",
    "    entries.sort()\n",
    "\n",
    "    for entry in entries:\n",
    "        entry_path = os.path.join(dir_path, entry)\n",
    "        #print(entry_path)\n",
    "        entry_name = os.path.basename(entry_path)\n",
    "        print(\"    \" * level + entry_name)\n",
    "        \n",
    "        if os.path.isdir(entry_path):\n",
    "                print_directory_recursively(entry_path, level + 1)        \n",
    "                \n",
    "\n",
    "\n",
    "print_directory(\"C:/Users/janas/Documents/Python/Programmieren_Einfuehrung/UO1/txtuo1.txt\")\n",
    "#print_directory_recursively(\"C:/Users/janas/Documents/Python/Programmieren_Einfuehrung/UO1\", 0)\n"
   ]
  },
  {
   "cell_type": "markdown",
   "id": "6aaed562",
   "metadata": {},
   "source": [
    "## Aufgabe 3: Fibonacci-Zahlen generieren\n",
    "\n",
    "Schreiben Sie eine Generatorfunktion `gen_fibonacci(upper_bound)`, die Fibonacci-Zahlen kleiner oder gleich `upper_bound` erzeugt. \n",
    "Wenn `upper_bound` kein Integer oder Float ist, soll eine `TypeError`-Exception ausgelöst werden. Wenn `upper_bound` kleiner als 0 ist, soll eine `ValueError`-Exception ausgelöst werden.\n",
    "\n",
    "Die Fibonacci-Sequenz wird wie folgt definiert:\n",
    "- F0 = 0\n",
    "- F1 = 1\n",
    "- Fn = Fn-1 + Fn-2\n",
    "\n",
    "**Beispiel-Aufrufe und Ergebnisse:**\n",
    "\n",
    "```\n",
    "list(gen_fibonacci(\"3\"))  -> TypeError\n",
    "list(gen_fibonacci(-1))   -> ValueError\n",
    "list(gen_fibonacci(0))    -> [0]\n",
    "list(gen_fibonacci(1))    -> [0, 1, 1]\n",
    "list(gen_fibonacci(3))    -> [0, 1, 1, 2, 3]\n",
    "list(gen_fibonacci(9.2))  -> [0, 1, 1, 2, 3, 5, 8]\n",
    "```\n",
    "\n",
    "**Hinweise:**\n",
    "- Erstellen Sie geeignete und hilfreiche Fehlermeldungen.\n",
    "- Sie können überprüfen, ob ein Objekt ein bestimmter Datentyp ist, indem Sie `isinstance(OBJECT, TYPE)` verwenden."
   ]
  },
  {
   "cell_type": "code",
   "execution_count": 1,
   "id": "f85f631c",
   "metadata": {},
   "outputs": [
    {
     "name": "stdout",
     "output_type": "stream",
     "text": [
      "Fibonacci sequence:\n",
      "0\n",
      "1\n",
      "1\n",
      "2\n",
      "3\n",
      "5\n",
      "8\n",
      "13\n",
      "21\n",
      "34\n"
     ]
    }
   ],
   "source": [
    "# Python program to display the Fibonacci sequence\n",
    "\n",
    "def recur_fibo(n):\n",
    "   if n <= 1:\n",
    "       return n\n",
    "   else:\n",
    "       return(recur_fibo(n-1) + recur_fibo(n-2))\n",
    "\n",
    "nterms = 10\n",
    "\n",
    "# check if the number of terms is valid\n",
    "if nterms <= 0:\n",
    "   print(\"Plese enter a positive integer\")\n",
    "else:\n",
    "   print(\"Fibonacci sequence:\")\n",
    "   for i in range(nterms):\n",
    "       print(recur_fibo(i))\n"
   ]
  },
  {
   "cell_type": "code",
   "execution_count": 2,
   "id": "0db8eb0b",
   "metadata": {},
   "outputs": [],
   "source": [
    "def gen_fibonacci(upper_bound):\n",
    "    # Überprüfen, ob der obere Grenzwert ein Integer oder Float ist\n",
    "    if not isinstance(upper_bound, (int, float)):\n",
    "        raise TypeError(\"Der obere Grenzwert muss vom Typ Integer oder Float sein.\")\n",
    "    \n",
    "    # Überprüfen, ob der obere Grenzwert nicht negativ ist\n",
    "    if upper_bound < 0:\n",
    "        raise ValueError(\"Der obere Grenzwert darf nicht negativ sein.\")\n",
    "    \n",
    "    # Erzeugen der Fibonacci-Sequenz\n",
    "    a, b = 0, 1\n",
    "    while a <= upper_bound:\n",
    "        yield a\n",
    "        a, b = b, a + b\n"
   ]
  },
  {
   "cell_type": "markdown",
   "id": "42b9d1eb",
   "metadata": {},
   "source": [
    "## Aufgabe 4: Programmflussanalyse mit benutzerdefinierten Exceptions\n",
    "\n",
    "Betrachten Sie den folgenden Code mit benutzerdefinierten Exceptions `ErrorA`, `ErrorB` und `ErrorC`, die alle unabhängig voneinander sind:\n",
    "\n",
    "```python\n",
    "def f(x: int):\n",
    "    try:\n",
    "        g(x)\n",
    "        print(\"f1\")\n",
    "    except ErrorA:\n",
    "        print(\"f2\")\n",
    "    finally:\n",
    "        print(\"f3\")\n",
    "\n",
    "def g(x: int):\n",
    "    try:\n",
    "        h(x)\n",
    "        print(\"g1\")\n",
    "    except ErrorA:\n",
    "        print(\"g2\")\n",
    "    except ErrorB:\n",
    "        print(\"g3\")\n",
    "    if x < -10:\n",
    "        raise ErrorC\n",
    "    print(\"g4\")\n",
    "    else:\n",
    "        print(\"g5\")\n",
    "    print(\"g6\")\n",
    "\n",
    "def h(x: int):\n",
    "    try:\n",
    "        if x > 10:\n",
    "            raise ErrorA\n",
    "        if x < 0:\n",
    "            raise ErrorB\n",
    "    finally:\n",
    "        print(\"h1\")\n",
    "    print(\"h2\")\n",
    "```\n",
    "\n",
    "Bestimmen Sie ohne den Code auszuführen den Ausgabe- oder Fehlerfluss der Funktion `f` für die folgenden vier Argumente: `f(5)`, `f(-5)`, `f(11)` und `f(-11)`. \n",
    "Schreiben Sie Ihre Ergebnisse in die unten dafür vorgesehene markdown-cell.\n",
    "\n",
    "```\n",
    "f(ARG) -> X1 X2 ... Xn\n",
    "```\n",
    "\n",
    "Beispiel-Inhalt der Datei (Ergebnisse sind falsch, dies dient nur zur Demonstration des Formats):\n",
    "\n",
    "```\n",
    "f(5) -> f1 f2 g1 h1\n",
    "f(-5) -> f3 h2 ErrorB\n",
    "f(11) -> h1 h2 f1 f5 g2\n",
    "f(-11) -> g1 h2 f2 ErrorA\n",
    "```\n"
   ]
  },
  {
   "cell_type": "markdown",
   "id": "04a5630b",
   "metadata": {},
   "source": [
    "#### your solution here"
   ]
  }
 ],
 "metadata": {
  "kernelspec": {
   "display_name": "Python 3",
   "language": "python",
   "name": "python3"
  },
  "language_info": {
   "codemirror_mode": {
    "name": "ipython",
    "version": 3
   },
   "file_extension": ".py",
   "mimetype": "text/x-python",
   "name": "python",
   "nbconvert_exporter": "python",
   "pygments_lexer": "ipython3",
   "version": "3.12.5"
  }
 },
 "nbformat": 4,
 "nbformat_minor": 5
}
