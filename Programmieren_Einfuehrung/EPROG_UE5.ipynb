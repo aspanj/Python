{
 "cells": [
  {
   "cell_type": "markdown",
   "id": "3047a06e",
   "metadata": {},
   "source": [
    "# Einführung in das Programmieren - Übung  5\n",
    "\n",
    "### Bitte lösen Sie die folgenden Aufgaben. Falls erforderlich, dürfen Sie auch Konzepte oder Funktionen verwenden, die nicht im Unterricht behandelt wurden, aber keine zusätzlichen packages importieren."
   ]
  },
  {
   "cell_type": "markdown",
   "id": "9adfebe5",
   "metadata": {},
   "source": [
    "## Aufgabe 1: Palindrom-Erkennung\n",
    "\n",
    "Schreiben Sie eine Funktion `is_palindrome(word: str) -> bool`, die überprüft, ob ein eingegebenes Wort ein Palindrom ist.\n",
    "\n",
    "**Anforderungen:**\n",
    "\n",
    "- Ein Palindrom ist ein Wort, das vorwärts und rückwärts gleich gelesen werden kann.\n",
    "\n",
    "- Ignorieren Sie Leerzeichen und Groß-/Kleinschreibung.\n",
    "\n",
    "\n",
    "\n",
    "Beispiel-Aufrufe und Ergebnisse:\n",
    "\n",
    "\n",
    "\n",
    "`is_palindrome(\"Lagerregal\")` → `True`\n",
    "\n",
    "`is_palindrome(\"Python\")` → `False`"
   ]
  },
  {
   "cell_type": "code",
   "execution_count": 72,
   "id": "33221dc5",
   "metadata": {},
   "outputs": [
    {
     "name": "stdout",
     "output_type": "stream",
     "text": [
      "True\n"
     ]
    }
   ],
   "source": [
    "# your code here\n",
    "string_a = \"Lagerregal\"\n",
    "string_b = \"Python\"\n",
    "\n",
    "def is_palindrome(string):\n",
    "    lst = []\n",
    "    lst_reverse = []\n",
    "\n",
    "    for char in string:\n",
    "        lst.append(char.lower())\n",
    "\n",
    "    lst_reverse = lst[::-1]\n",
    "\n",
    "    if lst == lst_reverse:\n",
    "        print(True)\n",
    "    else:\n",
    "        print(False)\n",
    "\n",
    "is_palindrome(string_a)"
   ]
  },
  {
   "cell_type": "markdown",
   "id": "0b10de5d",
   "metadata": {},
   "source": [
    "## Aufgabe 2: Zählen von Wörtern\n",
    "\n",
    "Schreiben Sie eine Funktion `count_words(text: str) -> dict`, die die Anzahl der Vorkommen jedes Wortes in einem Text zählt.\n",
    "\n",
    "**Anforderungen:**\n",
    "\n",
    "- Die Wörter sollen unabhängig von Groß-/Kleinschreibung gezählt werden.\n",
    "\n",
    "- Rückgabe soll ein Dictionary sein, wobei der Schlüssel das Wort und der Wert die Anzahl der Vorkommen ist.\n",
    "\n",
    "\n",
    "\n",
    "Beispiel-Aufruf und Ergebnis:\n",
    "\n",
    "\n",
    "\n",
    "`count_words(\"Das ist ein Test. Test ist gut.\")` → `{'das': 1, 'ist': 2, 'ein': 1, 'test': 2, 'gut': 1}`"
   ]
  },
  {
   "cell_type": "code",
   "execution_count": 76,
   "id": "a649494b",
   "metadata": {},
   "outputs": [
    {
     "name": "stdout",
     "output_type": "stream",
     "text": [
      "{'Das': 1, 'ist': 4, 'ein': 1, 'Test': 4, 'gut': 2}\n"
     ]
    }
   ],
   "source": [
    "# your code here\n",
    "string_c = \"Das ist ein Test. Test ist gut. Test Test gut ist ist\"\n",
    "\n",
    "string_c = string_c.split()\n",
    "no_point_list = []\n",
    "word_dict = {}\n",
    "\n",
    "def count_words(string):\n",
    "    for word in string:\n",
    "        if word[-1] == \".\":\n",
    "            word = word[0:-1]\n",
    "            no_point_list.append(word)\n",
    "        else:\n",
    "            no_point_list.append(word)\n",
    "\n",
    "    for word in no_point_list:\n",
    "        if word not in word_dict:\n",
    "            wordcount = 1\n",
    "            word_dict.update({word: wordcount})\n",
    "        else:\n",
    "            word_dict[word] += 1\n",
    "    print(word_dict)\n",
    "\n",
    "count_words(string_c)"
   ]
  },
  {
   "cell_type": "markdown",
   "id": "73c7284a",
   "metadata": {},
   "source": [
    "## Aufgabe 3: Matrixtransposition\n",
    "\n",
    "Schreiben Sie eine Funktion `transpose_matrix(matrix: list) -> list`, die die Transponierte einer gegebenen Matrix berechnet.\n",
    "\n",
    "**Anforderungen:**\n",
    "\n",
    "- Die Funktion soll eine neue Matrix zurückgeben, die durch die Transposition der ursprünglichen Matrix entsteht.\n",
    "\n",
    "- Eine Matrix wird als eine Liste von Listen dargestellt.\n",
    "\n",
    "- Sie können davon ausgehen, dass alle inneren Listen die gleiche Länge haben (rechteckige Matrix).\n",
    "\n",
    "\n",
    "\n",
    "**Erwarteter Input:**\n",
    "\n",
    "- `matrix` ist eine Liste von Listen (2D-Liste), wobei jedes Element eine Liste von ganzen Zahlen (integers) ist.\n",
    "\n",
    "\n",
    "\n",
    "Beispiel-Aufrufe und Ergebnisse:\n",
    "\n",
    "- `transpose_matrix([[1, 2, 3], [4, 5, 6]])` → `[[1, 4], [2, 5], [3, 6]]`\n",
    "\n",
    "- `transpose_matrix([[1, 2], [3, 4], [5, 6]])` → `[[1, 3, 5], [2, 4, 6]]`\n"
   ]
  },
  {
   "cell_type": "code",
   "execution_count": 2,
   "id": "597d847d",
   "metadata": {},
   "outputs": [
    {
     "name": "stdout",
     "output_type": "stream",
     "text": [
      "[[1, 4], [2, 5], [3, 6]]\n"
     ]
    }
   ],
   "source": [
    "# your code here\n",
    "\n",
    "#matrix = [[1, 2, 3], [4, 5, 6]]\n",
    "#matrix = [[1, 2], [3, 4], [5, 6]]\n",
    "\n",
    "def transpose_matrix(matrix):\n",
    "    tmatrix = []\n",
    "    zeilen_m = len(matrix[1])\n",
    "    spalten_m = len(matrix)\n",
    "\n",
    "    zeilen_t = spalten_m\n",
    "    spalten_t = zeilen_m\n",
    "\n",
    "\n",
    "    for j in range(spalten_t):\n",
    "        row = []\n",
    "        for i in range(zeilen_t):\n",
    "            #print(matrix[i][0])\n",
    "            row.append(matrix[i][j])\n",
    "        tmatrix.append(row)\n",
    "        \n",
    "    print(tmatrix)\n",
    "\n",
    "transpose_matrix([[1, 2, 3], [4, 5, 6]])"
   ]
  },
  {
   "cell_type": "markdown",
   "id": "55627e6e",
   "metadata": {},
   "source": [
    "## Aufgabe 4: N-Gramm-Generierung\n",
    "\n",
    "Schreiben Sie eine Funktion `generate_n_grams(text: str, n: int) -> list`, die eine Liste von N-Grammen (Folgen von `n` aufeinanderfolgenden Wörtern) aus einem gegebenen Text generiert.\n",
    "\n",
    "**Anforderungen:**\n",
    "\n",
    "- Die Funktion soll den Text in Wörter zerlegen und N-Gramme mit der Länge `n` erstellen.\n",
    "\n",
    "- Wenn `n` größer ist als die Anzahl der Wörter im Text, soll eine leere Liste zurückgegeben werden.\n",
    "\n",
    "- Groß-/Kleinschreibung soll ignoriert werden.\n",
    "\n",
    "\n",
    "\n",
    "**Erwarteter Input:**\n",
    "\n",
    "- `text` ist eine Zeichenkette (string), die Wörter und Leerzeichen enthält.\n",
    "\n",
    "- `n` ist eine positive ganze Zahl (integer), die angibt, wie viele Wörter ein N-Gramm umfassen soll.\n",
    "\n",
    "\n",
    "\n",
    "Beispiel-Aufrufe und Ergebnisse:\n",
    "\n",
    "- `generate_n_grams(\"das ist ein einfacher Test\", 2)` → `[[\"das\", \"ist\"], [\"ist\", \"ein\"], [\"ein\", \"einfacher\"], [\"einfacher\", \"test\"]]`\n",
    "\n",
    "- `generate_n_grams(\"hello world\", 3)` → `[]`\n",
    "\n",
    "- `generate_n_grams(\"n-gram test case\", 1)` → `[[\"n-gram\"], [\"test\"], [\"case\"]]`\n"
   ]
  },
  {
   "cell_type": "code",
   "execution_count": 114,
   "id": "cbbe1ec8",
   "metadata": {},
   "outputs": [
    {
     "name": "stdout",
     "output_type": "stream",
     "text": [
      "4\n",
      "[['das', 'ist'], ['ist', 'ein'], ['ein', 'einfacher'], ['einfacher', 'Test']]\n"
     ]
    }
   ],
   "source": [
    "# your code here\n",
    "#string = \"das ist ein einfacher Test\".split()\n",
    "#n = 1\n",
    "\n",
    "def generate_n_grams(string, n):\n",
    "    string = string.split()\n",
    "    anzahl_listen = len(string) - n + 1\n",
    "    print(anzahl_listen)\n",
    "\n",
    "    lst = []\n",
    "    #lst2 = []\n",
    "    #count = 0\n",
    "\n",
    "    for j in range(anzahl_listen):\n",
    "        row = []\n",
    "        for i in range(n):\n",
    "            row.append(string[i+j])\n",
    "            #count += 1\n",
    "        lst.append(row)\n",
    "    print(lst)\n",
    "\n",
    "generate_n_grams(\"das ist ein einfacher Test\", 2)\n",
    "\n"
   ]
  },
  {
   "cell_type": "code",
   "execution_count": null,
   "id": "4df3402c",
   "metadata": {},
   "outputs": [],
   "source": [
    "for word in string:\n",
    "    count += 1\n",
    "    lst.append(word)\n",
    "    print(lst)\n",
    "    if n == count:\n",
    "        lst2.append(lst)\n",
    "        break\n",
    "    #    lst.append(row)  \n",
    "\n",
    "print(lst2)\n"
   ]
  },
  {
   "cell_type": "markdown",
   "id": "3693fc09",
   "metadata": {},
   "source": [
    "## Aufgabe 5: Buchstabenhäufigkeit analysieren\n",
    "\n",
    "Schreiben Sie eine Funktion `letter_frequency_analysis(text: str) -> dict`, die die Häufigkeit jedes Buchstabens in einem gegebenen Text berechnet und ein Dictionary mit den Buchstaben als Schlüssel und deren Häufigkeit als Wert zurückgibt.\n",
    "\n",
    "**Anforderungen:**\n",
    "\n",
    "- Groß-/Kleinschreibung wird ignoriert (d.h., 'A' und 'a' zählen als derselbe Buchstabe).\n",
    "\n",
    "- Nicht-alphabetische Zeichen sollen ignoriert werden.\n",
    "\n",
    "\n",
    "\n",
    "**Erwarteter Input:**\n",
    "\n",
    "- `text` ist eine Zeichenkette (string), die beliebige Zeichen enthält.\n",
    "\n",
    "\n",
    "\n",
    "Beispiel-Aufrufe und Ergebnisse:\n",
    "\n",
    "- `letter_frequency_analysis(\"Hello World!\")` → `{'h': 1, 'e': 1, 'l': 3, 'o': 2, 'w': 1, 'r': 1, 'd': 1}`\n",
    "\n",
    "- `letter_frequency_analysis(\"Das ist ein Test!\")` → `{'d': 1, 'a': 1, 's': 3, 'i': 1, 't': 3, 'e': 1, 'n': 1}`\n"
   ]
  },
  {
   "cell_type": "code",
   "execution_count": 4,
   "id": "a2d9462e",
   "metadata": {},
   "outputs": [
    {
     "data": {
      "text/plain": [
       "{'h': 1, 'e': 1, 'l': 3, 'o': 2, 'w': 1, 'r': 1, 'd': 1}"
      ]
     },
     "execution_count": 4,
     "metadata": {},
     "output_type": "execute_result"
    }
   ],
   "source": [
    "# your code here\n",
    "string = \"Hello World!\"\n",
    "\n",
    "def letter_frequency_analysis(text: str) -> dict:\n",
    "    frequency = {}\n",
    "    for letter in text:\n",
    "        if letter.isalpha():\n",
    "            letter = letter.lower()\n",
    "            frequency[letter] = frequency.get(letter, 0) + 1\n",
    "    return frequency\n",
    "\n",
    "letter_frequency_analysis(string)"
   ]
  },
  {
   "cell_type": "markdown",
   "id": "bdab6df3",
   "metadata": {},
   "source": [
    "## Aufgabe 6: Zahlen in Wörter umwandeln\n",
    "\n",
    "Schreiben Sie eine Funktion `number_to_words(n: int) -> str`, die eine gegebene Zahl in ihre Wortdarstellung umwandelt.\n",
    "\n",
    "**Anforderungen:**\n",
    "\n",
    "- Die Funktion soll Zahlen zwischen 0 und 99 unterstützen.\n",
    "\n",
    "\n",
    "\n",
    "Beispiel-Aufrufe und Ergebnisse:\n",
    "\n",
    "\n",
    "\n",
    "`number_to_words(42)` → `\"zweiundvierzig\"`\n",
    "\n",
    "`number_to_words(99)` → `\"neunundneunzig\"`\n"
   ]
  },
  {
   "cell_type": "code",
   "execution_count": 65,
   "id": "00d21056",
   "metadata": {},
   "outputs": [],
   "source": [
    "# your code here"
   ]
  },
  {
   "cell_type": "markdown",
   "id": "7f4acd41",
   "metadata": {},
   "source": [
    "## Aufgabe 7: Hamming-Distanz zwischen zwei DNA-Sequenzen\n",
    "\n",
    "Schreiben Sie eine Funktion `hamming_distance(dna1: str, dna2: str) -> int`, die die Hamming-Distanz zwischen zwei DNA-Sequenzen berechnet.\n",
    "\n",
    "**Anforderungen:**\n",
    "\n",
    "- Die Hamming-Distanz ist die Anzahl der Positionen, an denen zwei gleich lange DNA-Sequenzen unterschiedliche Nukleotide aufweisen.\n",
    "\n",
    "- Wenn die Sequenzen unterschiedliche Längen haben, soll die Funktion `None` zurückgeben.\n",
    "\n",
    "- Groß-/Kleinschreibung soll ignoriert werden.\n",
    "\n",
    "\n",
    "\n",
    "**Erwarteter Input:**\n",
    "\n",
    "- `dna1` und `dna2` sind Zeichenketten (strings), die aus den Nukleotiden A, T, C und G bestehen.\n",
    "\n",
    "\n",
    "\n",
    "Beispiel-Aufrufe und Ergebnisse:\n",
    "\n",
    "- `hamming_distance(\"GAGCCT\", \"GATCCT\")` → `1`\n",
    "\n",
    "- `hamming_distance(\"AAAA\", \"AAAT\")` → `1`\n",
    "\n",
    "- `hamming_distance(\"AGCT\", \"TCGA\")` → `4`\n",
    "\n",
    "- `hamming_distance(\"AGCT\", \"AGCTT\")` → `None` (unterschiedliche Längen)\n"
   ]
  },
  {
   "cell_type": "code",
   "execution_count": 28,
   "id": "a5b54b78",
   "metadata": {},
   "outputs": [
    {
     "name": "stdout",
     "output_type": "stream",
     "text": [
      "1\n",
      "1\n",
      "4\n",
      "None\n"
     ]
    }
   ],
   "source": [
    "# your code here\n",
    "\n",
    "dna1 = \"GAGCCTT\"\n",
    "dna2 = \"GATCCTC\"\n",
    "\n",
    "def hamming_distance(dna1: str, dna2: str) -> int:\n",
    "    if len(dna1) != len(dna2):\n",
    "        return None\n",
    "    count = 0\n",
    "    wrong = 0\n",
    "    for char in dna1:\n",
    "        count += 1\n",
    "        if char == dna2[count-1]:\n",
    "            continue\n",
    "        else:\n",
    "            wrong += 1\n",
    "    return wrong\n",
    "\n",
    "\n",
    "\n",
    "print(hamming_distance(\"GAGCCT\", \"GATCCT\"))\n",
    "\n",
    "print(hamming_distance(\"AAAA\", \"AAAT\"))\n",
    "\n",
    "print(hamming_distance(\"AGCT\", \"TCGA\"))\n",
    "\n",
    "print(hamming_distance(\"AGCT\", \"AGCTT\"))"
   ]
  },
  {
   "cell_type": "markdown",
   "id": "fbc0383f",
   "metadata": {},
   "source": [
    "## Aufgabe 8: Motif-Suche in DNA-Sequenzen\n",
    "\n",
    "Schreiben Sie eine Funktion `find_motif(dna: str, motif: str) -> list`, die alle Startpositionen eines Motifs (einer kürzeren Sequenz) in einer DNA-Sequenz findet.\n",
    "\n",
    "**Anforderungen:**\n",
    "\n",
    "- Die Startpositionen sollen 1-basiert zurückgegeben werden (d.h., die erste Position ist 1, nicht 0).\n",
    "\n",
    "- Wenn das Motiv nicht in der Sequenz vorkommt, soll eine leere Liste zurückgegeben werden.\n",
    "\n",
    "- Groß-/Kleinschreibung soll ignoriert werden.\n",
    "\n",
    "\n",
    "\n",
    "**Erwarteter Input:**\n",
    "\n",
    "- `dna` ist eine Zeichenkette (string), die aus den Nukleotiden A, T, C und G besteht.\n",
    "\n",
    "- `motif` ist eine kürzere Zeichenkette (string), die ebenfalls aus A, T, C und G besteht.\n",
    "\n",
    "\n",
    "\n",
    "Beispiel-Aufrufe und Ergebnisse:\n",
    "\n",
    "- `find_motif(\"ACGTACGTAC\", \"CGT\")` → `[2, 6]`\n",
    "\n",
    "- `find_motif(\"AAAAA\", \"AA\")` → `[1, 2, 3, 4]`\n",
    "\n",
    "- `find_motif(\"ATGCGC\", \"GG\")` → `[]` (Motif nicht vorhanden)\n"
   ]
  },
  {
   "cell_type": "code",
   "execution_count": 66,
   "id": "5e957c09",
   "metadata": {},
   "outputs": [
    {
     "name": "stdout",
     "output_type": "stream",
     "text": [
      "[2, 6]\n",
      "[1, 2, 3, 4]\n",
      "[]\n"
     ]
    }
   ],
   "source": [
    "# your code here\n",
    "dna = \"ACGTACGTAC\"\n",
    "motif = \"CGT\"\n",
    "\n",
    "\n",
    "def find_motif(dna: str, motif: str) -> list:\n",
    "    dna = list(dna)\n",
    "    motif = list(motif)\n",
    "    lst = []\n",
    "    indexer = 0\n",
    "\n",
    "    for i in dna:\n",
    "        test_motif = dna[indexer:len(motif)+indexer]\n",
    "        if test_motif == motif:\n",
    "            lst.append(indexer + 1)\n",
    "        indexer += 1\n",
    "    return lst\n",
    "    \n",
    "print(find_motif(\"ACGTACGTAC\", \"CGT\"))\n",
    "print(find_motif(\"AAAAA\", \"AA\"))\n",
    "print(find_motif(\"ATGCGC\", \"GG\"))"
   ]
  },
  {
   "cell_type": "code",
   "execution_count": 67,
   "id": "63567c7d",
   "metadata": {},
   "outputs": [
    {
     "name": "stdout",
     "output_type": "stream",
     "text": [
      "[2, 6]\n",
      "[1, 2, 3, 4]\n",
      "[]\n"
     ]
    }
   ],
   "source": [
    "#chatgpt\n",
    "def find_motif(dna: str, motif: str) -> list:\n",
    "    # Konvertiere beides zu Großbuchstaben, um Groß-/Kleinschreibung zu ignorieren\n",
    "    dna = dna.upper()\n",
    "    motif = motif.upper()\n",
    "    \n",
    "    positions = []  # Liste zum Speichern der Startpositionen\n",
    "    motif_length = len(motif)\n",
    "    \n",
    "    # Durchlaufe die DNA-Sequenz und suche nach dem Motiv\n",
    "    for i in range(len(dna) - motif_length + 1):\n",
    "        # Vergleiche das aktuelle Substring mit dem Motiv\n",
    "        if dna[i:i + motif_length] == motif:\n",
    "            # Speichere die 1-basierte Position\n",
    "            positions.append(i + 1)\n",
    "    \n",
    "    return positions\n",
    "print(find_motif(\"ACGTACGTAC\", \"CGT\"))\n",
    "print(find_motif(\"AAAAA\", \"AA\"))\n",
    "print(find_motif(\"ATGCGC\", \"GG\"))"
   ]
  }
 ],
 "metadata": {
  "kernelspec": {
   "display_name": "Python 3",
   "language": "python",
   "name": "python3"
  },
  "language_info": {
   "codemirror_mode": {
    "name": "ipython",
    "version": 3
   },
   "file_extension": ".py",
   "mimetype": "text/x-python",
   "name": "python",
   "nbconvert_exporter": "python",
   "pygments_lexer": "ipython3",
   "version": "3.12.5"
  }
 },
 "nbformat": 4,
 "nbformat_minor": 5
}
