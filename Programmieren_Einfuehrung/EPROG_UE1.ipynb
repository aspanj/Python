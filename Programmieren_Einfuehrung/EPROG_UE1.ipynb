{
 "cells": [
  {
   "cell_type": "markdown",
   "id": "92168aea",
   "metadata": {},
   "source": [
    "# Programmieren in Python I, Aufgabe 1"
   ]
  },
  {
   "cell_type": "markdown",
   "id": "d1fc3752",
   "metadata": {},
   "source": [
    "## Aufgabe 1 - Variablen, Operatoren und Konsolenausgabe"
   ]
  },
  {
   "cell_type": "markdown",
   "id": "8c0f37ed",
   "metadata": {},
   "source": [
    "Erstellen Sie vier Variablen der Datentypen bool, int, float und str. Verwenden Sie beliebige Variablennamen und Werte. Geben Sie die Variablen mit den folgenden zusätzlichen Formatierungen aus:\n",
    "- int mit einer Mindestbreite von 5 und führenden Nullen.\n",
    "- float mit einer Mindestbreite von 10 und auf 3 Dezimalstellen genau.\n",
    "- string dreimal hintereinander. Z.B. Wenn der string so lautet: \"test\", soll \"testtesttest\" ausgegeben werden."
   ]
  },
  {
   "cell_type": "code",
   "execution_count": 2,
   "id": "673b3e31",
   "metadata": {},
   "outputs": [
    {
     "name": "stdout",
     "output_type": "stream",
     "text": [
      "True\n",
      "00012\n",
      "     1.500\n",
      "hellohellohello\n"
     ]
    }
   ],
   "source": [
    "# your code here\n",
    "integer_number = 12\n",
    "float_number = 1.5\n",
    "bool = True\n",
    "string = \"hello\"\n",
    "\n",
    "print(bool)\n",
    "print(f'{integer_number:05d}')\n",
    "print(f'{float_number:10.3f}')\n",
    "print(string * 3)"
   ]
  },
  {
   "cell_type": "markdown",
   "id": "499f9589",
   "metadata": {},
   "source": [
    "## Aufgabe 2 - Konsoleneingabe und Berechnungen"
   ]
  },
  {
   "cell_type": "markdown",
   "id": "6b8b4c95",
   "metadata": {},
   "source": [
    "Lesen Sie vier Zahlen a, b, c und d von der Konsole ein und konvertieren Sie sie in Ganzzahlen. Führen Sie die folgenden Berechnungen durch und geben Sie die Ergebnisse aus:\n",
    "- Summe von a, b und d\n",
    "- Produkt aller vier Zahlen\n",
    "- Summe von a und b multipliziert mit der Summe von c und d\n",
    "- Ergebnis der Ganzzahldivision von a durch d\n",
    "- Ergebnis der regulären Division von a durch d\n",
    "- Rest der Division von a durch b (Modulo)\n",
    "- c<sup>-a</sup>\n",
    "- Quadratwurzel von b"
   ]
  },
  {
   "cell_type": "code",
   "execution_count": 1,
   "id": "ce13fcfd",
   "metadata": {},
   "outputs": [
    {
     "name": "stdout",
     "output_type": "stream",
     "text": [
      "Summe von a, b und d: 10\n",
      "Produkt aller Zahlen: 120\n",
      "Die Summe von a und b multipliziert mit der Summe von c und d: 45\n",
      "a geteilt durch d (int): 0\n",
      "a geteilt durch d (float): 0.4\n",
      "Rest von a geteilt durch b: 2\n",
      "c hoch -a: 0.0625\n",
      "b hoch 1/2 (Quadratwurzel): 1.7320508075688772\n"
     ]
    }
   ],
   "source": [
    "# your code here\n",
    "\n",
    "a = int(input(\"Parameter a: \"))\n",
    "b = int(input(\"Parameter b: \"))\n",
    "c = int(input(\"Parameter c: \"))\n",
    "d = int(input(\"Parameter d: \"))\n",
    "\n",
    "summe = a + b + d\n",
    "print(\"Summe von a, b und d:\", summe)\n",
    "\n",
    "prod = a * b * c * d\n",
    "print(\"Produkt aller Zahlen:\", prod)\n",
    "\n",
    "sumprod = (a + b) * (c + d)\n",
    "print(\"Die Summe von a und b multipliziert mit der Summe von c und d:\", sumprod)\n",
    "\n",
    "wholediv = a // d\n",
    "print(\"a geteilt durch d (int):\", wholediv)\n",
    "\n",
    "divad = a / d\n",
    "print(\"a geteilt durch d (float):\", divad)\n",
    "\n",
    "modulo = a % b\n",
    "print(\"Rest von a geteilt durch b:\", modulo)\n",
    "\n",
    "potenz = c ** (-a)\n",
    "print(\"c hoch -a:\", potenz)\n",
    "\n",
    "sqrtb = b ** (1/2)\n",
    "print(\"b hoch 1/2 (Quadratwurzel):\", sqrtb)"
   ]
  },
  {
   "cell_type": "markdown",
   "id": "8df84fc2",
   "metadata": {},
   "source": [
    "## Aufgabe 3 - Raummaße berechnen"
   ]
  },
  {
   "cell_type": "markdown",
   "id": "aeef9ab5",
   "metadata": {},
   "source": [
    "Berechnen Sie mehrere Metriken eines Raumes basierend auf der vom Benutzer angegebenen Länge, Breite und Höhe (in Metern):\n",
    "- Umfang des Raumes\n",
    "- Volumen des Raumes\n",
    "- Wandfläche des Raumes"
   ]
  },
  {
   "cell_type": "code",
   "execution_count": 58,
   "id": "e1bd9b13",
   "metadata": {},
   "outputs": [
    {
     "name": "stdout",
     "output_type": "stream",
     "text": [
      "Umfang: 16.0 Meter\n",
      "Volumen: 64.0 Kubikmeter\n",
      "Wandfläche: 64.0 Quadratmeter\n"
     ]
    }
   ],
   "source": [
    "# your code here\n",
    "h = float(input(\"Höhe:\"))\n",
    "l = float(input(\"Länge:\"))\n",
    "b = float(input(\"Breite:\"))\n",
    "\n",
    "umfang = (2 * l) + (2 * b)\n",
    "print(f'Umfang: {umfang} Meter')\n",
    "\n",
    "volume = h * l * b\n",
    "print(f'Volumen: {volume} Kubikmeter')\n",
    "\n",
    "wand = 2 * (l * h) + 2 * (b * h)\n",
    "print(f'Wandfläche: {wand} Quadratmeter')"
   ]
  },
  {
   "cell_type": "markdown",
   "id": "737ad156",
   "metadata": {},
   "source": [
    "## Aufgabe 4 - Bestellformular für PC-Teile"
   ]
  },
  {
   "cell_type": "markdown",
   "id": "50708078",
   "metadata": {},
   "source": [
    "Schreiben Sie ein Programm, das ein Bestellformular für ein Geschäft, das PC-Teile verkauft, erstellt. Lesen Sie die Anzahl der bestellten Kabel, Monitore und Tastaturen ein, berechnen Sie die Gesamtkosten und geben Sie die Ergebnisse formatiert aus.\n",
    "    \n",
    "Schreiben Sie ein Programm, das ein kleines Bestellformular für ein Geschäft, das PC-Teile verkauft, drucken kann (siehe das Beispiel unten für Ausgabe). Sie müssen drei ganze Zahlen einlesen, die dann Teil einer solchen Bestellung sind:\n",
    "\n",
    "        Die Anzahl der bestellten Kabel. Jedes Kabel kostet 9,90 Euro.\n",
    "        Die Anzahl der bestellten Monitore. Jeder Monitor kostet 249,99 Euro.\n",
    "        Die Anzahl der bestellten Tastaturen. Jede Tastatur kostet 27,50 Euro.\n",
    "Berechnen Sie die Gesamtkosten für diese drei Positionen und schließlich die Gesamtkosten der gesamten Bestellung. Die Anzahl der bestellten Artikel muss eine Mindestdruckbreite von 3 haben (nur die Ausgabe muss formatiert werden, nicht die Benutzereingabe). Alle float-Ergebnisse müssen mit 2 Dezimalstellen gedruckt werden."
   ]
  },
  {
   "cell_type": "code",
   "execution_count": 60,
   "id": "7310d537",
   "metadata": {},
   "outputs": [
    {
     "name": "stdout",
     "output_type": "stream",
     "text": [
      "==================================================\n",
      "PC-Teile-Shop - Bestellung\n",
      "==================================================\n",
      "  4 Kabel je (9.90 EUR) = 39.60 EUR\n",
      "  5 Monitore je (249.99 EUR) = 1249.95 EUR\n",
      "  6 Tastaturen je (27.50 EUR) = 165.00 EUR\n",
      "--------------------------------------------------\n",
      "Gesamt 1454.55\n",
      "==================================================\n"
     ]
    }
   ],
   "source": [
    "# your code here\n",
    "\n",
    "cost_cable = 9.90\n",
    "cost_display = 249.99\n",
    "cost_keyboard = 27.50\n",
    "\n",
    "amount_cable = int(input(\"Amount Cable:\"))\n",
    "amount_display = int(input(\"Amount Display:\"))\n",
    "amount_keyboard = int(input(\"Amount Keyboard:\"))\n",
    "\n",
    "amount_trennzeichen = 50\n",
    "\n",
    "print(\"=\" * amount_trennzeichen)\n",
    "print(\"PC-Teile-Shop - Bestellung\")\n",
    "print(\"=\" * amount_trennzeichen)\n",
    "print(f'{amount_cable:3d} Kabel je ({cost_cable:.02f} EUR) = {(amount_cable * cost_cable):.02f} EUR')\n",
    "#:3d digits, für ganze Zahlen\n",
    "print(f'{amount_display:3d} Monitore je ({cost_display:.02f} EUR) = {(amount_display * cost_display):.02f} EUR')\n",
    "#:>3 geht auch, macht leerzeichen vor String\n",
    "print(f'{amount_keyboard:>3} Tastaturen je ({cost_keyboard:.02f} EUR) = {(amount_keyboard * cost_keyboard):.02f} EUR')\n",
    "print('-' * amount_trennzeichen)\n",
    "print(f'Gesamt {(amount_cable * cost_cable) + (amount_display * cost_display) + (amount_keyboard * cost_keyboard)}')\n",
    "print(\"=\" * amount_trennzeichen)"
   ]
  },
  {
   "cell_type": "code",
   "execution_count": null,
   "id": "4cec9865",
   "metadata": {},
   "outputs": [],
   "source": []
  }
 ],
 "metadata": {
  "kernelspec": {
   "display_name": "base",
   "language": "python",
   "name": "python3"
  },
  "language_info": {
   "codemirror_mode": {
    "name": "ipython",
    "version": 3
   },
   "file_extension": ".py",
   "mimetype": "text/x-python",
   "name": "python",
   "nbconvert_exporter": "python",
   "pygments_lexer": "ipython3",
   "version": "3.12.3"
  }
 },
 "nbformat": 4,
 "nbformat_minor": 5
}
