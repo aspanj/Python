{
 "cells": [
  {
   "cell_type": "markdown",
   "id": "b3fd7d21",
   "metadata": {},
   "source": [
    "# Einführung in das Programmieren - Übung 4\n",
    "\n",
    "### Sie dürfen für diese Übung auch Konzepte/Funktionen verwenden, die wir nicht bereits behandelt haben, aber keine zusätzlichen packages importieren."
   ]
  },
  {
   "cell_type": "markdown",
   "id": "47256bcd",
   "metadata": {},
   "source": [
    "## Aufgabe 1: Liste aufteilen\n",
    "Schreibe eine Funktion `split_list(lst: list, num_sublists: int) -> list`, die eine gegebene Liste in (größtenteils) gleich große Unterlisten aufteilt.\n",
    "\n",
    "**Anforderungen:**\n",
    "- `num_sublists` gibt an, in wie viele Unterlisten `lst` aufgeteilt werden soll.\n",
    "- Die Funktion füllt alle Unterlisten so auf, dass die maximale Differenz in der Größe der Unterlisten 1 beträgt.\n",
    "- Falls `num_sublists` 0 ist, soll die originale Liste zurückgegeben werden.\n",
    "\n",
    "Beispiel-Aufrufe und Ergebnisse:\n",
    "\n",
    "`split_list([0,1,2,3], 2)` → `[[0,2],[1,3]]`\n",
    "\n",
    "`split_list([0,1,2,3], 1)` → `[[0,1,2,3]]`\n",
    "\n",
    "`split_list([0,1,2,3,4,5,6,7], 3)` → `[[0,3,6],[1,4,7],[2,5]]`\n",
    "\n",
    "`split_list([0,1,2,3,4,5,6,7], 0)` → `[0,1,2,3,4,5,6,7]`\n",
    "\n",
    "`split_list([0,1,2,3,4], 2)` → `[[0,2,4],[1,3]]`"
   ]
  },
  {
   "cell_type": "code",
   "execution_count": 15,
   "id": "ee8e02e6",
   "metadata": {},
   "outputs": [
    {
     "name": "stdout",
     "output_type": "stream",
     "text": [
      "1.3333333333333333\n",
      "[[0], [1], [2], [3], [4], [5], [6], [7]]\n"
     ]
    }
   ],
   "source": [
    "# your code here\n",
    "#Input\n",
    "#lst = [0, 1, 2, 3, 4, 5, 6, 7]\n",
    "#num_sublists = 3\n",
    "\n",
    "def split_list(lst, num_sublists):\n",
    "    # Initialize\n",
    "\n",
    "    partial_list = []\n",
    "\n",
    "    if num_sublists == 0:\n",
    "        print(lst)\n",
    "        return\n",
    "    \n",
    "\n",
    "    parts = len(lst)/num_sublists\n",
    "    print(parts)\n",
    "    parts = round(parts)\n",
    "    a = 0\n",
    "    b = parts\n",
    "\n",
    "    # Calculate\n",
    "    while a < len(lst):\n",
    "        partial_list.append(lst[a:b])\n",
    "        a += parts\n",
    "        b += parts\n",
    "        \n",
    "    print(partial_list)\n",
    "\n",
    "split_list([0, 1, 2, 3, 4, 5, 6, 7], 6)"
   ]
  },
  {
   "cell_type": "markdown",
   "id": "381732f5",
   "metadata": {},
   "source": [
    "## Aufgabe 2: Werte begrenzen\n",
    "Schreibe eine Funktion `clip(*values, min_=0, max_=1) -> list`, die eine Liste von begrenzten Werten zurückgibt, basierend auf beliebig vielen Eingabewerten (`*values`).\n",
    "\n",
    "**Anforderungen:**\n",
    "- Wenn ein Wert kleiner als `min_` ist, füge `min_` zur Liste hinzu.\n",
    "- Wenn ein Wert größer als `max_` ist, füge `max_` zur Liste hinzu.\n",
    "- Andernfalls füge den ursprünglichen Wert zur Liste hinzu.\n",
    "\n",
    "Beispiel-Aufrufe und Ergebnisse:\n",
    "\n",
    "`clip()` → `[]`\n",
    "\n",
    "`clip(1, 2, 0.1, 0)` → `[1, 1, 0.1, 0]`\n",
    "\n",
    "`clip(-1, 0.5)` → `[0, 0.5]`\n",
    "\n",
    "`clip(-1, 0.5, min_=-2)` → `[-1, 0.5]`\n",
    "\n",
    "`clip(-1, 0.5, max_=0.3)` → `[0, 0.3]`\n",
    "\n",
    "`clip(-1, 0.5, min_=2, max_=3)` → `[2, 2]`"
   ]
  },
  {
   "cell_type": "code",
   "execution_count": 96,
   "id": "81f818a1",
   "metadata": {},
   "outputs": [
    {
     "name": "stdout",
     "output_type": "stream",
     "text": [
      "(0.9, 3, 5, 0.1, 0.001, 2, 3, 0.999, -3, 10, 12, -15)\n",
      "[0.9, 3, 3, 0.1, 0.001, 2, 3, 0.999, 0, 3, 3, 0]\n"
     ]
    }
   ],
   "source": [
    "# your code here\n",
    "\n",
    "values = 0.9,3,5,0.1,0.001,2,3,0.999,-3,10,12,-15\n",
    "\n",
    "lst = []\n",
    "\n",
    "def clip(values, min = 0, max = 1):\n",
    "    for i in values:\n",
    "        if i >= min and i <= max:\n",
    "            lst.append(i)\n",
    "        elif i > max: \n",
    "            lst.append(max)\n",
    "        elif i < min:\n",
    "            lst.append(min)\n",
    "\n",
    "print(values)\n",
    "clip(values, min = 0, max = 3)\n",
    "print(lst)\n"
   ]
  },
  {
   "cell_type": "markdown",
   "id": "eab1652a",
   "metadata": {},
   "source": [
    "## Aufgabe 3: Runden\n",
    "Schreibe eine Funktion `round_(number, ndigits: int = None)`, die eine gegebene Zahl auf eine bestimmte Anzahl von Dezimalstellen rundet.\n",
    "\n",
    "**Anforderungen:**\n",
    "- Falls `ndigits` `None` ist, soll auf 0 Dezimalstellen gerundet und ein Integer zurückgegeben werden.\n",
    "- Andernfalls wird auf `ndigits` Dezimalstellen gerundet und ein Float zurückgegeben.\n",
    "- Verwende nicht die eingebaute Funktion `round()`.\n",
    "\n",
    "Beispiel-Aufrufe und Ergebnisse:\n",
    "\n",
    "`round_(777.777)` → `778`\n",
    "\n",
    "`round_(777.777, 0)` → `778.0`\n",
    "\n",
    "`round_(777.777, 1)` → `777.8`\n",
    "\n",
    "`round_(777.777, 2)` → `777.78`\n"
   ]
  },
  {
   "cell_type": "code",
   "execution_count": 17,
   "id": "c3b60fcc",
   "metadata": {},
   "outputs": [
    {
     "name": "stdout",
     "output_type": "stream",
     "text": [
      "345"
     ]
    }
   ],
   "source": [
    "# your code here\n",
    "number = 345.443215\n",
    "ndigits = None\n",
    "\n",
    "lst = []\n",
    "prefix = []\n",
    "suffix = []\n",
    "\n",
    "number = str(number)\n",
    "for i in number:\n",
    "    lst.append(i)\n",
    "\n",
    "for i in lst:\n",
    "    prefix.append(i)\n",
    "    if i == \".\":\n",
    "        break\n",
    "#Spezialfall ndigits == None\n",
    "if ndigits == None:\n",
    "    ndigits = 1\n",
    "    suffix = lst[len(prefix):]\n",
    "    suffix_ndigi = suffix[0:ndigits]\n",
    "    if int(suffix[0]) < 5:\n",
    "        for i in prefix[0:-1]:\n",
    "            print(i, end=\"\")\n",
    "    if int(suffix[0]) >= 5:\n",
    "        prefix[-2] = int(prefix[-2]) + 1 \n",
    "        for i in prefix[0:-1]:\n",
    "            print(i, end=\"\")\n",
    "else:\n",
    "    suffix = lst[len(prefix):]\n",
    "    suffix_ndigi = suffix[0:ndigits]\n",
    "\n",
    "#Spezialfall ndigits == 0\n",
    "    if ndigits == 0:\n",
    "        if int(suffix[0]) < 5:\n",
    "            prefix = prefix + [0]\n",
    "        elif int(suffix[0]) >= 5:\n",
    "            prefix[-2] = int(prefix[-2]) + 1\n",
    "            prefix = prefix + [0]\n",
    "\n",
    "# rest            \n",
    "    elif int(suffix[ndigits]) < 5:\n",
    "        suffix_ndigi[ndigits-1] = int(suffix_ndigi[ndigits-1])\n",
    "\n",
    "    elif int(suffix[ndigits]) >= 5:\n",
    "        suffix_ndigi[ndigits-1] = int(suffix_ndigi[ndigits-1]) + 1\n",
    "\n",
    "    fin_list = prefix + suffix_ndigi\n",
    "\n",
    "    for i in fin_list:\n",
    "        print(i, end=\"\")\n"
   ]
  },
  {
   "cell_type": "code",
   "execution_count": 151,
   "id": "8515622f",
   "metadata": {},
   "outputs": [
    {
     "name": "stdout",
     "output_type": "stream",
     "text": [
      "344.54552346"
     ]
    }
   ],
   "source": [
    "# your code here\n",
    "#number = 777.886256789\n",
    "#ndigits = 3\n",
    "\n",
    "def runden(number, ndigits: int = None):\n",
    "    lst = []\n",
    "    prefix = []\n",
    "    suffix = []\n",
    "\n",
    "    number = str(number)\n",
    "    for i in number:\n",
    "        lst.append(i)\n",
    "\n",
    "    for i in lst:\n",
    "        prefix.append(i)\n",
    "        if i == \".\":\n",
    "            break\n",
    "    #Spezialfall ndigits == None\n",
    "    if ndigits == None:\n",
    "        ndigits = 1\n",
    "        suffix = lst[len(prefix):]\n",
    "        suffix_ndigi = suffix[0:ndigits]\n",
    "        if int(suffix[0]) < 5:\n",
    "            for i in prefix[0:-1]:\n",
    "                print(i, end=\"\")\n",
    "        if int(suffix[0]) >= 5:\n",
    "            prefix[-2] = int(prefix[-2]) + 1 \n",
    "            for i in prefix[0:-1]:\n",
    "                print(i, end=\"\")\n",
    "    else:\n",
    "        suffix = lst[len(prefix):]\n",
    "        suffix_ndigi = suffix[0:ndigits]\n",
    "\n",
    "    #Spezialfall ndigits == 0\n",
    "        if ndigits == 0:\n",
    "            if int(suffix[0]) < 5:\n",
    "                prefix = prefix + [0]\n",
    "            elif int(suffix[0]) >= 5:\n",
    "                prefix[-2] = int(prefix[-2]) + 1\n",
    "                prefix = prefix + [0]\n",
    "\n",
    "    # rest            \n",
    "        elif int(suffix[ndigits]) < 5:\n",
    "            suffix_ndigi[ndigits-1] = int(suffix_ndigi[ndigits-1])\n",
    "\n",
    "        elif int(suffix[ndigits]) >= 5:\n",
    "            suffix_ndigi[ndigits-1] = int(suffix_ndigi[ndigits-1]) + 1\n",
    "\n",
    "        fin_list = prefix + suffix_ndigi\n",
    "\n",
    "        for i in fin_list:\n",
    "            print(i, end=\"\")\n",
    "\n",
    "runden(344.5455234564, 8)"
   ]
  },
  {
   "cell_type": "markdown",
   "id": "0c1d2969",
   "metadata": {},
   "source": [
    "## Aufgabe 4: Sortieren\n",
    "Schreibe eine Funktion `sort(elements: list, ascending: bool = True)`, die die angegebene Liste sortiert (in-place, d.h., die Liste wird direkt verändert).\n",
    "Sie können davon ausgehen, dass alle Elemente in der List integers sind!\n",
    "\n",
    "**Anforderungen:**\n",
    "- Die Funktion verwendet den Insertion Sort Algorithmus, um die Liste zu sortieren.\n",
    "- Der Parameter `ascending` gibt an, ob aufsteigend oder absteigend sortiert wird.\n",
    "\n",
    "Beispiel-Aufrufe und Ergebnisse:\n",
    "\n",
    "`sort(some_list)` → `some_list hat nun den Inhalt [0, 1, 3, 4, 5]`\n",
    "\n",
    "`sort(some_list, ascending=False)` → `some_list hat nun den Inhalt [5, 4, 3, 1, 0]`\n"
   ]
  },
  {
   "cell_type": "code",
   "execution_count": 3,
   "id": "c336154c",
   "metadata": {},
   "outputs": [
    {
     "name": "stdout",
     "output_type": "stream",
     "text": [
      "[0, 1, 3, 4, 5]\n",
      "[5, 4, 3, 1, 0]\n"
     ]
    }
   ],
   "source": [
    "# your code here\n",
    "def sort(elements: list, ascending: bool = True):\n",
    "    n = len(elements)\n",
    "    \n",
    "    for i in range(1, n):\n",
    "        key = elements[i]\n",
    "        j = i - 1\n",
    "        \n",
    "        # Bestimmen der Richtung (aufsteigend oder absteigend)\n",
    "        while j >= 0 and ((ascending and elements[j] > key) or (not ascending and elements[j] < key)):\n",
    "            elements[j + 1] = elements[j]\n",
    "            j -= 1\n",
    "        \n",
    "        elements[j + 1] = key\n",
    "\n",
    "# Beispiel-Aufrufe\n",
    "some_list = [3, 1, 4, 5, 0]\n",
    "sort(some_list)\n",
    "print(some_list)  # some_list hat nun den Inhalt [0, 1, 3, 4, 5]\n",
    "\n",
    "some_list = [3, 1, 4, 5, 0]\n",
    "sort(some_list, ascending=False)\n",
    "print(some_list)  # some_list hat nun den Inhalt [5, 4, 3, 1, 0]\n"
   ]
  }
 ],
 "metadata": {
  "kernelspec": {
   "display_name": "Python 3",
   "language": "python",
   "name": "python3"
  },
  "language_info": {
   "codemirror_mode": {
    "name": "ipython",
    "version": 3
   },
   "file_extension": ".py",
   "mimetype": "text/x-python",
   "name": "python",
   "nbconvert_exporter": "python",
   "pygments_lexer": "ipython3",
   "version": "3.12.5"
  }
 },
 "nbformat": 4,
 "nbformat_minor": 5
}
