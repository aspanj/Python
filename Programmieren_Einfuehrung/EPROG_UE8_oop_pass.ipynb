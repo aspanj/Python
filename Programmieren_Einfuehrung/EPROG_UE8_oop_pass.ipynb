{
 "cells": [
  {
   "cell_type": "code",
   "execution_count": 1,
   "metadata": {},
   "outputs": [
    {
     "name": "stdout",
     "output_type": "stream",
     "text": [
      "Distance: Anzahl der Vektoren = 2\n",
      "NotImplementedError\n"
     ]
    }
   ],
   "source": [
    "class Distance:\n",
    "    # Attribute\n",
    "    def __init__(self, x: int):\n",
    "        self.x = x\n",
    "    \n",
    "    # Fähigkeiten/Methoden\n",
    "    def to_string(self) -> str:\n",
    "        class_name = self.__class__.__name__\n",
    "        return f\"{class_name}: Anzahl der Vektoren = {self.x}\"\n",
    "\n",
    "    def dist(self) -> float:   \n",
    "        raise NotImplementedError(\"Diese Methode muss in einer Unterklasse implementiert werden\")\n",
    "\n",
    "\n",
    "\n",
    "\n",
    "\n",
    "d = Distance(2)\n",
    "print(d.to_string())\n",
    "try:\n",
    "    d.dist()\n",
    "except NotImplementedError:\n",
    "    print(\"NotImplementedError\")\n",
    "\n"
   ]
  },
  {
   "cell_type": "code",
   "execution_count": 2,
   "metadata": {},
   "outputs": [
    {
     "name": "stdout",
     "output_type": "stream",
     "text": [
      "Minkowski: Anzahl der Vektoren = 2, vektor_1 = [1, 2, 3], vektor_2 = [4, 5, 6]\n",
      "Minkowski-Distanz: 5.1962\n"
     ]
    }
   ],
   "source": [
    "class Minkowski(Distance):\n",
    "    def __init__(self, x: int, vect1: list, vect2: list):\n",
    "        # Aufruf des Konstruktors der Basisklasse, um das Attribut `x` zu initialisieren\n",
    "        super().__init__(x)\n",
    "        self.vect1 = vect1\n",
    "        self.vect2 = vect2\n",
    "\n",
    "    def to_string(self) -> str:\n",
    "        # Verwendet die `to_string`-Methode der Basisklasse und fügt die zusätzlichen Vektoren hinzu\n",
    "        base_string = super().to_string()\n",
    "        return f\"{base_string}, vektor_1 = {self.vect1}, vektor_2 = {self.vect2}\"\n",
    "\n",
    "    def dist(self) -> float:\n",
    "        # Berechnet die Minkowski-Distanz mit p=2\n",
    "        p = 2\n",
    "        distance = sum(abs(a - b) ** p for a, b in zip(self.vect1, self.vect2)) ** (1 / p)\n",
    "        return round(distance, 4)\n",
    "\n",
    "\n",
    "vect1 = [1, 2, 3]\n",
    "vect2 = [4, 5, 6]\n",
    "\n",
    "k = Minkowski(2, vect1, vect2)\n",
    "print(k.to_string())\n",
    "print(\"Minkowski-Distanz:\", k.dist())"
   ]
  },
  {
   "cell_type": "code",
   "execution_count": 3,
   "metadata": {},
   "outputs": [],
   "source": [
    "class Euclidean(Minkowski):\n",
    "    pass"
   ]
  },
  {
   "cell_type": "code",
   "execution_count": 4,
   "metadata": {},
   "outputs": [
    {
     "name": "stdout",
     "output_type": "stream",
     "text": [
      "Euclidean: Anzahl der Vektoren = 2, vektor_1 = [1, 2, 3], vektor_2 = [4, 5, 6]\n",
      "Euklidische Distanz: 5.1962\n"
     ]
    }
   ],
   "source": [
    "e = Euclidean(2, vect1, vect2)\n",
    "print(e.to_string())\n",
    "print(\"Euklidische Distanz:\", e.dist())"
   ]
  }
 ],
 "metadata": {
  "kernelspec": {
   "display_name": "Python 3",
   "language": "python",
   "name": "python3"
  },
  "language_info": {
   "codemirror_mode": {
    "name": "ipython",
    "version": 3
   },
   "file_extension": ".py",
   "mimetype": "text/x-python",
   "name": "python",
   "nbconvert_exporter": "python",
   "pygments_lexer": "ipython3",
   "version": "3.12.5"
  }
 },
 "nbformat": 4,
 "nbformat_minor": 2
}
