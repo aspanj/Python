{
 "cells": [
  {
   "cell_type": "markdown",
   "metadata": {},
   "source": [
    "# Sequence annotation objects\n",
    "\n",
    "Sequence annotation objects in Biopython represent features of biological sequences, such as genes, promoters, or regulatory regions, often stored as `SeqFeature` objects within sequence records `SeqRecord`. These enable structured metadata for regions of interest."
   ]
  },
  {
   "cell_type": "code",
   "execution_count": 3,
   "metadata": {},
   "outputs": [],
   "source": [
    "from Bio.SeqRecord import SeqRecord\n",
    "# Execute help() to view help on class SeqRecord\n",
    "# help(SeqRecord)"
   ]
  },
  {
   "cell_type": "markdown",
   "metadata": {},
   "source": [
    "### Creation and structure of a SeqRecord"
   ]
  },
  {
   "cell_type": "code",
   "execution_count": 4,
   "metadata": {},
   "outputs": [
    {
     "name": "stdout",
     "output_type": "stream",
     "text": [
      "Sequence Object: GATC \n",
      "\n",
      "ID: <unknown id>\n",
      "Name: <unknown name>\n",
      "Description: <unknown description>\n",
      "Number of features: 0\n",
      "Seq('GATC')\n"
     ]
    }
   ],
   "source": [
    "from Bio.Seq import Seq\n",
    "# Create Seq Object\n",
    "simple_seq = Seq(\"GATC\")\n",
    "\n",
    "print(f\"Sequence Object: {simple_seq}\", \"\\n\")\n",
    "# Use Seq Object for Seq Record creation\n",
    "simple_seq_r = SeqRecord(simple_seq)\n",
    "\n",
    "print(simple_seq_r)"
   ]
  },
  {
   "cell_type": "markdown",
   "metadata": {},
   "source": [
    "### Attributes of a SeqRecord\n",
    "\n",
    "Main attributes:\n",
    " - id          - Identifier such as a locus tag (string)\n",
    " - seq         - The sequence itself (Seq object or similar)\n",
    " \n",
    "Additional attributes:\n",
    " - name        - Sequence name, e.g. gene name (string)\n",
    " - description - Additional text (string)\n",
    " - dbxrefs     - List of database cross references (list of strings)\n",
    " - features    - Any (sub)features defined (list of SeqFeature objects)\n",
    " - annotations - Further information about the whole sequence (dictionary).<br>\n",
    "  Most entries are strings, or lists of strings.\n",
    " - letter_annotations - Per letter/symbol annotation (restricted\n",
    "     dictionary). This holds Python sequences (lists, strings\n",
    "     or tuples) whose length matches that of the sequence.\n",
    "     A typical use would be to hold a list of integers\n",
    "     representing sequencing quality scores, or a string\n",
    "     representing the secondary structure."
   ]
  },
  {
   "cell_type": "code",
   "execution_count": 5,
   "metadata": {},
   "outputs": [
    {
     "name": "stdout",
     "output_type": "stream",
     "text": [
      "<unknown id>\n"
     ]
    }
   ],
   "source": [
    "# No information on ID, this can be added manually\n",
    "print(simple_seq_r.id)"
   ]
  },
  {
   "cell_type": "code",
   "execution_count": 6,
   "metadata": {},
   "outputs": [
    {
     "data": {
      "text/plain": [
       "'AC12345'"
      ]
     },
     "execution_count": 6,
     "metadata": {},
     "output_type": "execute_result"
    }
   ],
   "source": [
    "# Adding identifier information to the SeqRecord\n",
    "simple_seq_r.id = \"AC12345\"\n",
    "simple_seq_r.id"
   ]
  },
  {
   "cell_type": "code",
   "execution_count": null,
   "metadata": {},
   "outputs": [
    {
     "data": {
      "text/plain": [
       "'Made up sequence I wish I could write a paper about'"
      ]
     },
     "execution_count": 8,
     "metadata": {},
     "output_type": "execute_result"
    }
   ],
   "source": [
    "# Adding description information to the SeqRecord\n",
    "simple_seq_r.description = \"Made up sequence I wish I could write a paper about\"\n",
    "simple_seq_r.description"
   ]
  },
  {
   "cell_type": "code",
   "execution_count": null,
   "metadata": {},
   "outputs": [
    {
     "data": {
      "text/plain": [
       "Seq('GATC')"
      ]
     },
     "execution_count": 10,
     "metadata": {},
     "output_type": "execute_result"
    }
   ],
   "source": [
    "# seq is still a Seq Object\n",
    "simple_seq_r.seq"
   ]
  },
  {
   "cell_type": "code",
   "execution_count": null,
   "metadata": {},
   "outputs": [
    {
     "name": "stdout",
     "output_type": "stream",
     "text": [
      "ID: AC54321\n",
      "Name: <unknown name>\n",
      "Description: <unknown description>\n",
      "Number of features: 0\n",
      "Seq('GATC')\n"
     ]
    }
   ],
   "source": [
    "# Directly add ID information on creation of SeqRecord\n",
    "simple_seq_r = SeqRecord(simple_seq, id=\"AC54321\")\n",
    "print(simple_seq_r)"
   ]
  },
  {
   "cell_type": "code",
   "execution_count": 7,
   "metadata": {},
   "outputs": [
    {
     "name": "stdout",
     "output_type": "stream",
     "text": [
      "{'evidence': 'None. I just made it up.'}\n",
      "None. I just made it up.\n"
     ]
    }
   ],
   "source": [
    "# Add annotation dictionary key pair to the SeqRecord\n",
    "simple_seq_r.annotations[\"evidence\"] = \"None. I just made it up.\"\n",
    "# View the added dictionary\n",
    "print(simple_seq_r.annotations)\n",
    "# View the value pair by providing the key\n",
    "print(simple_seq_r.annotations[\"evidence\"])"
   ]
  },
  {
   "cell_type": "markdown",
   "metadata": {},
   "source": [
    "### SeqFeature objects\n"
   ]
  },
  {
   "cell_type": "code",
   "execution_count": null,
   "metadata": {},
   "outputs": [],
   "source": [
    "from Bio.Seq import Seq\n",
    "from Bio.SeqRecord import SeqRecord\n",
    "from Bio.SeqFeature import SeqFeature, FeatureLocation\n",
    "\n",
    "#help(SeqFeature)"
   ]
  },
  {
   "cell_type": "markdown",
   "metadata": {},
   "source": [
    "Attributes:\n",
    " - location - the location of the feature on the sequence (SimpleLocation)\n",
    " - type - the specified type of the feature (ie. CDS, exon, repeat...)\n",
    " - id - A string identifier for the feature.\n",
    " - qualifiers - A dictionary of qualifiers on the feature. These are analogous to the qualifiers from a GenBank feature table. The keys of the dictionary are qualifier names, the values are the qualifier values."
   ]
  },
  {
   "cell_type": "code",
   "execution_count": null,
   "metadata": {},
   "outputs": [
    {
     "name": "stdout",
     "output_type": "stream",
     "text": [
      "ID: NC_000913.3\n",
      "Name: Example_Record\n",
      "Description: Example sequence with annotations\n",
      "Number of features: 2\n",
      "/molecule_type=DNA\n",
      "/organism=E. coli\n",
      "Per letter annotation for: phred_quality\n",
      "Seq('ATGGCCATTGTAATGGGCCGCTGAAAGGGTGCCCGATAG')\n"
     ]
    }
   ],
   "source": [
    "# Create a sequence\n",
    "sequence = Seq(\"ATGGCCATTGTAATGGGCCGCTGAAAGGGTGCCCGATAG\")\n",
    "\n",
    "# Create a SeqRecord\n",
    "seq_record = SeqRecord(\n",
    "    sequence,\n",
    "    id=\"NC_000913.3\",  # Accession number or ID\n",
    "    name=\"Example_Record\",\n",
    "    description=\"Example sequence with annotations\",\n",
    "    annotations={\"molecule_type\": \"DNA\", \"organism\": \"E. coli\"},\n",
    ")\n",
    "\n",
    "# Add features\n",
    "seq_record.features.append(\n",
    "    SeqFeature(location=FeatureLocation(0, 12), type=\"CDS\", qualifiers={\"gene\": \"example_gene\"})\n",
    ")\n",
    "seq_record.features.append(\n",
    "    SeqFeature(location=FeatureLocation(15, 30), type=\"regulatory\", qualifiers={\"note\": \"promoter\"})\n",
    ")\n",
    "\n",
    "# Add Phred quality scores as letter annotations\n",
    "seq_record.letter_annotations[\"phred_quality\"] = [40, 38, 39, 37, 40, 38, 37, 35, 36, 38, 39, 40, \n",
    "                                                   35, 36, 38, 39, 40, 37, 38, 39, 40, 38, 37, 35,\n",
    "                                                   36, 38, 39, 40, 35, 36, 38, 39, 40, 37, 38, 39, \n",
    "                                                   37, 37, 37]\n",
    "\n",
    "# Output\n",
    "print(seq_record)\n"
   ]
  },
  {
   "cell_type": "markdown",
   "metadata": {},
   "source": [
    "### SeqRecord objects from FASTA files"
   ]
  },
  {
   "cell_type": "code",
   "execution_count": null,
   "metadata": {},
   "outputs": [
    {
     "name": "stdout",
     "output_type": "stream",
     "text": [
      "ID: gi|45478711|ref|NC_005816.1|\n",
      "Name: gi|45478711|ref|NC_005816.1|\n",
      "Description: gi|45478711|ref|NC_005816.1| Yersinia pestis biovar Microtus str. 91001 plasmid pPCP1, complete sequence\n",
      "Number of features: 0\n",
      "Seq('TGTAACGAACGGTGCAATAGTGATCCACACCCAACGCCTGAAATCAGATCCAGG...CTG')\n"
     ]
    }
   ],
   "source": [
    "from Bio import SeqIO\n",
    "\n",
    "# Title of FASTA is used for ID, Name and Description\n",
    "# Theoretically gi number can be extracted and added as separate annotation to the SeqRecord but FASTA files from other sources vary.\n",
    "record = SeqIO.read(\"NC_005816.fna\", \"fasta\")\n",
    "\n",
    "print(record)"
   ]
  },
  {
   "cell_type": "markdown",
   "metadata": {},
   "source": [
    "### SeqRecord objects from GenBank files"
   ]
  },
  {
   "cell_type": "code",
   "execution_count": 30,
   "metadata": {},
   "outputs": [
    {
     "name": "stdout",
     "output_type": "stream",
     "text": [
      "ID: NC_005816.1\n",
      "Name: NC_005816\n",
      "Description: Yersinia pestis biovar Microtus str. 91001 plasmid pPCP1, complete sequence\n",
      "Database cross-references: Project:58037\n",
      "Number of features: 41\n",
      "/molecule_type=DNA\n",
      "/topology=circular\n",
      "/data_file_division=BCT\n",
      "/date=21-JUL-2008\n",
      "/accessions=['NC_005816']\n",
      "/sequence_version=1\n",
      "/gi=45478711\n",
      "/keywords=['']\n",
      "/source=Yersinia pestis biovar Microtus str. 91001\n",
      "/organism=Yersinia pestis biovar Microtus str. 91001\n",
      "/taxonomy=['Bacteria', 'Proteobacteria', 'Gammaproteobacteria', 'Enterobacteriales', 'Enterobacteriaceae', 'Yersinia']\n",
      "/references=[Reference(title='Genetics of metabolic variations between Yersinia pestis biovars and the proposal of a new biovar, microtus', ...), Reference(title='Complete genome sequence of Yersinia pestis strain 91001, an isolate avirulent to humans', ...), Reference(title='Direct Submission', ...), Reference(title='Direct Submission', ...)]\n",
      "/comment=PROVISIONAL REFSEQ: This record has not yet been subject to final\n",
      "NCBI review. The reference sequence was derived from AE017046.\n",
      "COMPLETENESS: full length.\n",
      "Seq('TGTAACGAACGGTGCAATAGTGATCCACACCCAACGCCTGAAATCAGATCCAGG...CTG')\n"
     ]
    }
   ],
   "source": [
    "from Bio import SeqIO\n",
    "\n",
    "record = SeqIO.read(\"NC_005816.gb\", \"genbank\")\n",
    "\n",
    "print(record)"
   ]
  },
  {
   "cell_type": "markdown",
   "metadata": {},
   "source": [
    "What is missing? \n",
    "\n",
    "- Fuzzy positions \n",
    "- Location testing\n",
    "- Sequence described by a feature or location"
   ]
  }
 ],
 "metadata": {
  "kernelspec": {
   "display_name": "Python 3",
   "language": "python",
   "name": "python3"
  },
  "language_info": {
   "codemirror_mode": {
    "name": "ipython",
    "version": 3
   },
   "file_extension": ".py",
   "mimetype": "text/x-python",
   "name": "python",
   "nbconvert_exporter": "python",
   "pygments_lexer": "ipython3",
   "version": "3.12.5"
  }
 },
 "nbformat": 4,
 "nbformat_minor": 2
}
