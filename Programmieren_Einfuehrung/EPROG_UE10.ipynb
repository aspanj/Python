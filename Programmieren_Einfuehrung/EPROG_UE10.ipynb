{
 "cells": [
  {
   "cell_type": "markdown",
   "metadata": {},
   "source": [
    "# Einführung in das Programmieren - Übung 10\n"
   ]
  },
  {
   "cell_type": "markdown",
   "metadata": {},
   "source": [
    "- Registrieren Sie sich bei https://exercism.org/tracks/python\n",
    "\n",
    "- Auf https://exercism.org/tracks/python/exercises können Sie verschiedene Übungsaufgaben einsehen.\n",
    "\n",
    "- Implementieren Sie Lösungen für die Aufgaben: (Für die Präsentation: Angabe + Lösung entweder im Browser oder im Editor herzeigen)\n",
    "    - \"Binary Search\" (https://exercism.org/tracks/python/exercises/binary-search) \n",
    "    - \"Minesweeper\" (https://exercism.org/tracks/python/exercises/minesweeper)\n",
    "    - Eine weitere Aufgabe Ihrer Wahl.\n",
    "\n",
    "- Vergleichen Sie für jede Aufgabe Ihre Lösung mit den Community solutions. (Nicht relevant für die Präsentation)\n",
    "\n",
    "- Freiwillig: Lösen Sie die Aufgabe \"4 Gewinnt\" (Abschnitt \"Prüfungsvorbereitung\", \"4_gewinnt.ipynb\" auf Moodle)"
   ]
  },
  {
   "cell_type": "markdown",
   "metadata": {},
   "source": [
    "Binary Search"
   ]
  },
  {
   "cell_type": "code",
   "execution_count": 1,
   "metadata": {},
   "outputs": [
    {
     "name": "stdout",
     "output_type": "stream",
     "text": [
      "Überprüfe Index 3: 16\n",
      "Überprüfe Index 5: 28\n",
      "Überprüfe Index 6: 32\n"
     ]
    },
    {
     "data": {
      "text/plain": [
       "6"
      ]
     },
     "execution_count": 1,
     "metadata": {},
     "output_type": "execute_result"
    }
   ],
   "source": [
    "songs = [4, 8, 12, 16, 23, 28, 32]\n",
    "#gesuchter_song = 29\n",
    "\n",
    "def binary_search(songs, target):\n",
    "    left = 0  # Linker Index\n",
    "    right = len(songs) - 1  # Rechter Index\n",
    "    \n",
    "    while left <= right:\n",
    "        mid = (left + right) // 2  # Mitte berechnen\n",
    "        print(f\"Überprüfe Index {mid}: {songs[mid]}\")\n",
    "        \n",
    "        if songs[mid] == target:  # Treffer\n",
    "            return mid\n",
    "        elif songs[mid] < target:  # Ziel liegt rechts\n",
    "            left = mid + 1\n",
    "        else:  # Ziel liegt links\n",
    "            right = mid - 1\n",
    "    \n",
    "    return print(\"nichtgefunden\")  # Ziel nicht gefunden\n",
    "\n",
    "binary_search(songs, 32)\n"
   ]
  },
  {
   "cell_type": "code",
   "execution_count": 8,
   "metadata": {},
   "outputs": [
    {
     "name": "stdout",
     "output_type": "stream",
     "text": [
      "index_links 0\n",
      "index_rechts 6\n",
      "index mitte 3\n",
      "song_wert 16\n",
      "index_links 4\n",
      "index_rechts 6\n",
      "index mitte 5\n",
      "song_wert 28\n",
      "28 wurde gefunden!\n"
     ]
    }
   ],
   "source": [
    "songs = [4, 8, 12, 16, 23, 28, 32]\n",
    "gesuchter_song = 28\n",
    "\n",
    "\n",
    "index_links = 0\n",
    "index_rechts = len(songs) - 1\n",
    "\n",
    "\n",
    "while index_links <= index_rechts:\n",
    "    \n",
    "    index_mitte = (index_links + index_rechts) // 2\n",
    "    \n",
    "    print(\"index_links\", index_links)\n",
    "    print(\"index_rechts\", index_rechts)\n",
    "    print(\"index mitte\", index_mitte)\n",
    "\n",
    "    song_wert = songs[index_mitte]\n",
    "    print(\"song_wert\", song_wert)\n",
    "\n",
    "    if song_wert == gesuchter_song:\n",
    "        print(song_wert, \"wurde gefunden!\")\n",
    "        break\n",
    "\n",
    "    elif song_wert < gesuchter_song:\n",
    "        index_links = index_mitte + 1\n",
    "        \n",
    "    else:\n",
    "        index_rechts = index_mitte - 1\n",
    "\n",
    "\n"
   ]
  },
  {
   "cell_type": "code",
   "execution_count": 16,
   "metadata": {},
   "outputs": [
    {
     "name": "stdout",
     "output_type": "stream",
     "text": [
      "[['0', '*', '0'], ['0', '0', '*'], ['*', '0', '0']]\n"
     ]
    }
   ],
   "source": [
    "input_board = [\n",
    "    [' ', '*', ' '],\n",
    "    [' ', ' ', '*'],\n",
    "    ['*', ' ', ' ']\n",
    "]\n",
    "\n",
    "\n",
    "rows = len(input_board)\n",
    "cols = len(input_board[0])\n",
    "    \n",
    "# Erstelle ein neues Spielfeld, um die Ergebnisse zu speichern\n",
    "output_board = []\n",
    "    \n",
    "# Gehe durch jedes Feld des Spielfelds\n",
    "for r in range(rows):\n",
    "    new_row = []  # Neue Zeile für das Ergebnis\n",
    "    for c in range(cols):\n",
    "        if input_board[r][c] == '*':\n",
    "            # Wenn es eine Mine ist, bleibt sie gleich\n",
    "            new_row.append('*')\n",
    "        else:\n",
    "            # Wenn es leer ist, zähle die benachbarten Minen\n",
    "            new_row.append('0')  # Platzhalter, hier kommt später die Logik\n",
    "    output_board.append(new_row)\n",
    "print(output_board)    \n",
    "\n",
    "\n"
   ]
  },
  {
   "cell_type": "code",
   "execution_count": 22,
   "metadata": {},
   "outputs": [
    {
     "data": {
      "text/plain": [
       "[['1', '*', '2'], ['2', '3', '*'], ['*', '2', '1']]"
      ]
     },
     "execution_count": 22,
     "metadata": {},
     "output_type": "execute_result"
    }
   ],
   "source": [
    "def count_adjacent_mines(board, r, c):\n",
    "    # 8 mögliche Richtungen\n",
    "    directions = [\n",
    "        (-1, -1), (-1, 0), (-1, 1),  # Oben links, oben, oben rechts\n",
    "        (0, -1),          (0, 1),    # Links, rechts\n",
    "        (1, -1), (1, 0), (1, 1)      # Unten links, unten, unten rechts\n",
    "    ]\n",
    "    rows = len(board)\n",
    "    cols = len(board[0])\n",
    "    count = 0\n",
    "    \n",
    "    # Gehe jede Richtung durch\n",
    "    for dr, dc in directions:\n",
    "        nr, nc = r + dr, c + dc\n",
    "        # Überprüfe, ob der Nachbar innerhalb des Spielfelds liegt und eine Mine ist\n",
    "        if 0 <= nr < rows and 0 <= nc < cols and board[nr][nc] == '*':\n",
    "            count += 1\n",
    "    \n",
    "    return count\n",
    "\n",
    "\n",
    "\n",
    "def board(input_board):\n",
    "    rows = len(input_board)\n",
    "    cols = len(input_board[0])\n",
    "    output_board = []\n",
    "    \n",
    "    for r in range(rows):\n",
    "        new_row = []\n",
    "        for c in range(cols):\n",
    "            if input_board[r][c] == '*':\n",
    "                new_row.append('*')  # Mine bleibt gleich\n",
    "            else:\n",
    "                # Zähle die benachbarten Minen\n",
    "                mine_count = count_adjacent_mines(input_board, r, c)\n",
    "                # Falls keine Minen da sind, lasse das Feld leer (' ')\n",
    "                new_row.append(str(mine_count) if mine_count > 0 else ' ')\n",
    "        output_board.append(new_row)\n",
    "    \n",
    "    return output_board\n",
    "\n",
    "\n",
    "\n",
    "board([\n",
    "    [' ', '*', ' '],\n",
    "    [' ', ' ', '*'],\n",
    "    ['*', ' ', ' ']\n",
    "])"
   ]
  },
  {
   "cell_type": "code",
   "execution_count": 28,
   "metadata": {},
   "outputs": [
    {
     "name": "stdout",
     "output_type": "stream",
     "text": [
      "-1 -1\n",
      "-1 0\n",
      "-1 1\n",
      "0 -1\n",
      "0 1\n",
      "1 -1\n",
      "1 0\n",
      "1 1\n"
     ]
    }
   ],
   "source": [
    "directions = [\n",
    "        (-1, -1), (-1, 0), (-1, 1),  # Oben links, oben, oben rechts\n",
    "        (0, -1),          (0, 1),    # Links, rechts\n",
    "        (1, -1), (1, 0), (1, 1)      # Unten links, unten, unten rechts\n",
    "    ]\n",
    "\n",
    "for dr, dc in directions:\n",
    "    print(dr, dc)"
   ]
  }
 ],
 "metadata": {
  "kernelspec": {
   "display_name": "Python 3",
   "language": "python",
   "name": "python3"
  },
  "language_info": {
   "codemirror_mode": {
    "name": "ipython",
    "version": 3
   },
   "file_extension": ".py",
   "mimetype": "text/x-python",
   "name": "python",
   "nbconvert_exporter": "python",
   "pygments_lexer": "ipython3",
   "version": "3.12.5"
  }
 },
 "nbformat": 4,
 "nbformat_minor": 2
}
