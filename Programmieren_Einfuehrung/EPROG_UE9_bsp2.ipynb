{
 "cells": [
  {
   "cell_type": "markdown",
   "metadata": {},
   "source": [
    "### Aufgabe 2\n",
    "\n",
    "Erstellen Sie eine Klasse `Power`, die einen Exponenten darstellt. Die Klasse besitzt das folgende Instanzattribut:\n",
    "\n",
    "- `exponent: float`  \n",
    "  Repräsentiert den Exponentenwert.\n",
    "\n",
    "Die Klasse besitzt die folgenden Instanzmethoden:\n",
    "\n",
    "- `__init__(self, exponent)`  \n",
    "  Setzt das Instanzattribut `exponent`. Wenn `exponent` nicht numerisch ist, wird ein `TypeError(\"The exponent must be a numerical value.\")` ausgelöst.\n",
    "\n",
    "- `__call__(self, x)`  \n",
    "  Gibt `x` hoch `exponent` zurück. Wenn `x` nicht numerisch ist, wird ein `TypeError(\"Input must be a numerical value.\")` ausgelöst.\n",
    "\n",
    "- `__mul__(self, other)`  \n",
    "  Wenn `other` ein numerischer Wert ist, wird `other` zum Exponenten von `self` addiert und ein neues `Power`-Objekt mit dem Ergebnis dieser Addition zurückgegeben. Wenn `other` eine weitere Instanz von `Power` ist, werden die Exponenten von `self` und `other` addiert und ein neues `Power`-Objekt wird zurückgegeben. Andernfalls wird `NotImplemented` zurückgegeben.\n",
    "\n",
    "Erstellen Sie zusätzlich eine Tochterklasse `Square`, für die `exponent=2` festgelegt ist.\n"
   ]
  },
  {
   "cell_type": "code",
   "execution_count": 49,
   "metadata": {},
   "outputs": [
    {
     "data": {
      "text/plain": [
       "64"
      ]
     },
     "execution_count": 49,
     "metadata": {},
     "output_type": "execute_result"
    }
   ],
   "source": [
    "class Power:\n",
    "    def __init__(self, exponent):\n",
    "        if not isinstance(exponent, (float, int)):\n",
    "            raise TypeError(\"The exponent must be a numerical value.\")\n",
    "        self.exponent = exponent\n",
    "    \n",
    "    def __call__(self, x):\n",
    "        if not isinstance(x, (float, int)):\n",
    "            raise TypeError(\"The exponent must be a numerical value.\")\n",
    "        return x ** self.exponent\n",
    "    \n",
    "    def __mul__(self, other):\n",
    "        if isinstance(other, int):\n",
    "            return Power(self.exponent + other)\n",
    "        elif isinstance(other, Power):\n",
    "            return Power(self.exponent + other.exponent)\n",
    "        else:\n",
    "            return NotImplemented\n",
    "\n",
    "class Square(Power):\n",
    "    def __init__(self):\n",
    "        super().__init__(2)\n",
    "\n",
    "\n",
    "a = Power(3)\n",
    "a.exponent\n",
    "\n",
    "b = 3\n",
    "\n",
    "c = a * b\n",
    "c.exponent\n",
    "c(2)\n"
   ]
  }
 ],
 "metadata": {
  "kernelspec": {
   "display_name": "Python 3",
   "language": "python",
   "name": "python3"
  },
  "language_info": {
   "codemirror_mode": {
    "name": "ipython",
    "version": 3
   },
   "file_extension": ".py",
   "mimetype": "text/x-python",
   "name": "python",
   "nbconvert_exporter": "python",
   "pygments_lexer": "ipython3",
   "version": "3.12.5"
  }
 },
 "nbformat": 4,
 "nbformat_minor": 2
}
