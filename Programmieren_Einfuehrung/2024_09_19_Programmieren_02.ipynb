{
 "cells": [
  {
   "cell_type": "code",
   "execution_count": 4,
   "metadata": {},
   "outputs": [
    {
     "name": "stdout",
     "output_type": "stream",
     "text": [
      "Begleitendes Fahren möglich\n"
     ]
    }
   ],
   "source": [
    "age = 16\n",
    "\n",
    "if age < 16:\n",
    "    print(\"Zu jung für den Führerschein\")\n",
    "elif age >= 16 and age < 18:\n",
    "    print(\"Begleitendes Fahren möglich\")\n",
    "else:\n",
    "    print(\"Fahrberechtigung möglich\")"
   ]
  },
  {
   "cell_type": "code",
   "execution_count": 12,
   "metadata": {},
   "outputs": [],
   "source": [
    "r_passw = \"eprog123\"\n",
    "user_input = \"\"\n",
    "\n",
    "\n",
    "while user_input != r_passw:\n",
    "    user_input = input(\"Geben Sie Ihr Passwort ein: \")\n",
    "    if user_input == r_passw:\n",
    "        print(\"Zugang gewährt\")\n",
    "    else:\n",
    "        print(\"Falsches Passwort, bitte erneut versuchen.\")\n"
   ]
  },
  {
   "cell_type": "code",
   "execution_count": 23,
   "metadata": {},
   "outputs": [
    {
     "name": "stdout",
     "output_type": "stream",
     "text": [
      "1: Apfel\n",
      "2: Birne\n",
      "3: Karotte\n"
     ]
    }
   ],
   "source": [
    "#Apfel,Birne,Karotte\n",
    "\n",
    "list_of_words = input(\"Geben Sie eine Liste an Gegenständen ein\").split(\",\")\n",
    "\n",
    "\n",
    "for idx, word in enumerate(list_of_words):\n",
    "    print(f\"{idx + 1}: {word}\")"
   ]
  },
  {
   "cell_type": "code",
   "execution_count": 29,
   "metadata": {},
   "outputs": [
    {
     "name": "stdout",
     "output_type": "stream",
     "text": [
      "Die Summe von 1 bis 5 ist 15\n"
     ]
    }
   ],
   "source": [
    "number = 5\n",
    "sum = 0\n",
    "\n",
    "#number von 1 bis number + 1  weil python immer von 0 weggeht also 1 bis 5 ist 1 - 6 \n",
    "for num in range(1, number + 1):\n",
    "    sum += num\n",
    "print(f\"Die Summe von 1 bis {number} ist {sum}\")"
   ]
  }
 ],
 "metadata": {
  "kernelspec": {
   "display_name": "environment1",
   "language": "python",
   "name": "python3"
  },
  "language_info": {
   "codemirror_mode": {
    "name": "ipython",
    "version": 3
   },
   "file_extension": ".py",
   "mimetype": "text/x-python",
   "name": "python",
   "nbconvert_exporter": "python",
   "pygments_lexer": "ipython3",
   "version": "3.12.3"
  }
 },
 "nbformat": 4,
 "nbformat_minor": 2
}
